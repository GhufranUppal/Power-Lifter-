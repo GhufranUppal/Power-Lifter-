{
 "cells": [
  {
   "cell_type": "code",
   "execution_count": 1,
   "metadata": {},
   "outputs": [
    {
     "data": {
      "text/plain": [
       "RendererRegistry.enable('png')"
      ]
     },
     "execution_count": 1,
     "metadata": {},
     "output_type": "execute_result"
    }
   ],
   "source": [
    "import altair as alt\n",
    "import pandas as pd\n",
    "import os\n",
    "\n",
    "alt.data_transformers.enable(\"default\", max_rows=None)\n",
    "from altair_data_server import data_server\n",
    "alt.data_transformers.enable('data_server')\n",
    "from vega_datasets import data\n",
    "alt.renderers.enable('default')\n",
    "alt.renderers.enable('png')"
   ]
  },
  {
   "cell_type": "code",
   "execution_count": 2,
   "metadata": {},
   "outputs": [],
   "source": [
    "import altair as alt"
   ]
  },
  {
   "cell_type": "code",
   "execution_count": 3,
   "metadata": {},
   "outputs": [],
   "source": [
    "import graph_maker"
   ]
  },
  {
   "cell_type": "code",
   "execution_count": 4,
   "metadata": {},
   "outputs": [],
   "source": [
    "import graph_maker_1"
   ]
  },
  {
   "cell_type": "markdown",
   "metadata": {},
   "source": [
    "# Who is the best Power Lifter ( Model Lifter)?"
   ]
  },
  {
   "cell_type": "markdown",
   "metadata": {},
   "source": [
    "## Introduction\n",
    "\n",
    "Powerlifting is a strength sport that consists of three attempts at maximal weight on three lifts: squat, bench press, and deadlift. As in the sport of Olympic weightlifting, it involves the athlete attempting a maximal weight single lift of a barbell loaded with weight plates. Powerlifting evolved from a sport known as \"odd lifts\", which followed the same three-attempt format but used a wider variety of events, akin to strongman competition. Eventually odd lifts became standardized to the current three.\n",
    "\n",
    "This analysis is based on data set propvided by owerlifting.org The OpenPowerlifting project aims to create a permanent, accurate, convenient, accessible, open archive of the world's powerlifting data.\n",
    "\n",
    "### Question(s) of interests\n",
    "\n",
    "\n",
    "\n",
    "1. How is the  performance of Power Lifters impacted by different Equipment? Are certain equipment better than others for certain type of lifts?\n",
    "2. How is the  performance of Power Lifters impacted by their Gender? How powerlifters perform when measured against the total weight lifted and the weight lifted as compared to their Body Weight? \n",
    "3. What can be a good Metric to measure power lifters performance?\n",
    "4. How the power lifter performance changes with age?"
   ]
  },
  {
   "cell_type": "markdown",
   "metadata": {},
   "source": [
    "### Data Wrangling"
   ]
  },
  {
   "cell_type": "code",
   "execution_count": 5,
   "metadata": {},
   "outputs": [],
   "source": [
    "url_pwr_lft ='https://raw.githubusercontent.com/UBC-MDS/exploratory-data-viz/main/data/power_lifting.csv'"
   ]
  },
  {
   "cell_type": "code",
   "execution_count": 6,
   "metadata": {},
   "outputs": [],
   "source": [
    "pwr_lft_df=pd.read_csv(url_pwr_lft)"
   ]
  },
  {
   "cell_type": "code",
   "execution_count": 7,
   "metadata": {},
   "outputs": [
    {
     "data": {
      "text/html": [
       "<div>\n",
       "<style scoped>\n",
       "    .dataframe tbody tr th:only-of-type {\n",
       "        vertical-align: middle;\n",
       "    }\n",
       "\n",
       "    .dataframe tbody tr th {\n",
       "        vertical-align: top;\n",
       "    }\n",
       "\n",
       "    .dataframe thead th {\n",
       "        text-align: right;\n",
       "    }\n",
       "</style>\n",
       "<table border=\"1\" class=\"dataframe\">\n",
       "  <thead>\n",
       "    <tr style=\"text-align: right;\">\n",
       "      <th></th>\n",
       "      <th>MeetID</th>\n",
       "      <th>Age</th>\n",
       "      <th>BodyweightKg</th>\n",
       "      <th>Squat4Kg</th>\n",
       "      <th>BestSquatKg</th>\n",
       "      <th>Bench4Kg</th>\n",
       "      <th>BestBenchKg</th>\n",
       "      <th>Deadlift4Kg</th>\n",
       "      <th>BestDeadliftKg</th>\n",
       "      <th>TotalKg</th>\n",
       "      <th>Wilks</th>\n",
       "    </tr>\n",
       "  </thead>\n",
       "  <tbody>\n",
       "    <tr>\n",
       "      <td>count</td>\n",
       "      <td>386414.000000</td>\n",
       "      <td>147147.000000</td>\n",
       "      <td>384012.000000</td>\n",
       "      <td>1243.000000</td>\n",
       "      <td>298071.000000</td>\n",
       "      <td>1962.000000</td>\n",
       "      <td>356364.000000</td>\n",
       "      <td>2800.000000</td>\n",
       "      <td>317847.000000</td>\n",
       "      <td>363237.000000</td>\n",
       "      <td>362194.000000</td>\n",
       "    </tr>\n",
       "    <tr>\n",
       "      <td>mean</td>\n",
       "      <td>5143.015804</td>\n",
       "      <td>31.668237</td>\n",
       "      <td>86.934912</td>\n",
       "      <td>107.036404</td>\n",
       "      <td>176.569941</td>\n",
       "      <td>45.722905</td>\n",
       "      <td>118.347509</td>\n",
       "      <td>113.597193</td>\n",
       "      <td>195.040633</td>\n",
       "      <td>424.000249</td>\n",
       "      <td>301.080601</td>\n",
       "    </tr>\n",
       "    <tr>\n",
       "      <td>std</td>\n",
       "      <td>2552.099838</td>\n",
       "      <td>12.900342</td>\n",
       "      <td>23.140843</td>\n",
       "      <td>166.976620</td>\n",
       "      <td>69.222785</td>\n",
       "      <td>151.668221</td>\n",
       "      <td>54.848850</td>\n",
       "      <td>170.201657</td>\n",
       "      <td>61.580675</td>\n",
       "      <td>196.355147</td>\n",
       "      <td>116.360396</td>\n",
       "    </tr>\n",
       "    <tr>\n",
       "      <td>min</td>\n",
       "      <td>0.000000</td>\n",
       "      <td>5.000000</td>\n",
       "      <td>15.880000</td>\n",
       "      <td>-440.500000</td>\n",
       "      <td>-477.500000</td>\n",
       "      <td>-360.000000</td>\n",
       "      <td>-522.500000</td>\n",
       "      <td>-461.000000</td>\n",
       "      <td>-410.000000</td>\n",
       "      <td>11.000000</td>\n",
       "      <td>13.730000</td>\n",
       "    </tr>\n",
       "    <tr>\n",
       "      <td>25%</td>\n",
       "      <td>2979.000000</td>\n",
       "      <td>22.000000</td>\n",
       "      <td>70.300000</td>\n",
       "      <td>87.500000</td>\n",
       "      <td>127.500000</td>\n",
       "      <td>-90.000000</td>\n",
       "      <td>79.380000</td>\n",
       "      <td>110.000000</td>\n",
       "      <td>147.500000</td>\n",
       "      <td>272.160000</td>\n",
       "      <td>237.380000</td>\n",
       "    </tr>\n",
       "    <tr>\n",
       "      <td>50%</td>\n",
       "      <td>5960.000000</td>\n",
       "      <td>28.000000</td>\n",
       "      <td>83.200000</td>\n",
       "      <td>145.000000</td>\n",
       "      <td>174.630000</td>\n",
       "      <td>90.250000</td>\n",
       "      <td>115.000000</td>\n",
       "      <td>157.500000</td>\n",
       "      <td>195.000000</td>\n",
       "      <td>424.110000</td>\n",
       "      <td>319.660000</td>\n",
       "    </tr>\n",
       "    <tr>\n",
       "      <td>75%</td>\n",
       "      <td>7175.000000</td>\n",
       "      <td>39.000000</td>\n",
       "      <td>100.000000</td>\n",
       "      <td>212.500000</td>\n",
       "      <td>217.720000</td>\n",
       "      <td>167.500000</td>\n",
       "      <td>150.000000</td>\n",
       "      <td>219.990000</td>\n",
       "      <td>238.140000</td>\n",
       "      <td>565.000000</td>\n",
       "      <td>379.290000</td>\n",
       "    </tr>\n",
       "    <tr>\n",
       "      <td>max</td>\n",
       "      <td>8481.000000</td>\n",
       "      <td>95.000000</td>\n",
       "      <td>242.400000</td>\n",
       "      <td>450.000000</td>\n",
       "      <td>573.790000</td>\n",
       "      <td>378.750000</td>\n",
       "      <td>488.500000</td>\n",
       "      <td>418.000000</td>\n",
       "      <td>460.400000</td>\n",
       "      <td>1365.310000</td>\n",
       "      <td>779.380000</td>\n",
       "    </tr>\n",
       "  </tbody>\n",
       "</table>\n",
       "</div>"
      ],
      "text/plain": [
       "              MeetID            Age   BodyweightKg     Squat4Kg  \\\n",
       "count  386414.000000  147147.000000  384012.000000  1243.000000   \n",
       "mean     5143.015804      31.668237      86.934912   107.036404   \n",
       "std      2552.099838      12.900342      23.140843   166.976620   \n",
       "min         0.000000       5.000000      15.880000  -440.500000   \n",
       "25%      2979.000000      22.000000      70.300000    87.500000   \n",
       "50%      5960.000000      28.000000      83.200000   145.000000   \n",
       "75%      7175.000000      39.000000     100.000000   212.500000   \n",
       "max      8481.000000      95.000000     242.400000   450.000000   \n",
       "\n",
       "         BestSquatKg     Bench4Kg    BestBenchKg  Deadlift4Kg  BestDeadliftKg  \\\n",
       "count  298071.000000  1962.000000  356364.000000  2800.000000   317847.000000   \n",
       "mean      176.569941    45.722905     118.347509   113.597193      195.040633   \n",
       "std        69.222785   151.668221      54.848850   170.201657       61.580675   \n",
       "min      -477.500000  -360.000000    -522.500000  -461.000000     -410.000000   \n",
       "25%       127.500000   -90.000000      79.380000   110.000000      147.500000   \n",
       "50%       174.630000    90.250000     115.000000   157.500000      195.000000   \n",
       "75%       217.720000   167.500000     150.000000   219.990000      238.140000   \n",
       "max       573.790000   378.750000     488.500000   418.000000      460.400000   \n",
       "\n",
       "             TotalKg          Wilks  \n",
       "count  363237.000000  362194.000000  \n",
       "mean      424.000249     301.080601  \n",
       "std       196.355147     116.360396  \n",
       "min        11.000000      13.730000  \n",
       "25%       272.160000     237.380000  \n",
       "50%       424.110000     319.660000  \n",
       "75%       565.000000     379.290000  \n",
       "max      1365.310000     779.380000  "
      ]
     },
     "execution_count": 7,
     "metadata": {},
     "output_type": "execute_result"
    }
   ],
   "source": [
    "pwr_lft_df.describe()"
   ]
  },
  {
   "cell_type": "code",
   "execution_count": 8,
   "metadata": {},
   "outputs": [
    {
     "name": "stdout",
     "output_type": "stream",
     "text": [
      "<class 'pandas.core.frame.DataFrame'>\n",
      "RangeIndex: 386414 entries, 0 to 386413\n",
      "Data columns (total 17 columns):\n",
      "MeetID            386414 non-null int64\n",
      "Name              386414 non-null object\n",
      "Sex               386414 non-null object\n",
      "Equipment         386414 non-null object\n",
      "Age               147147 non-null float64\n",
      "Division          370571 non-null object\n",
      "BodyweightKg      384012 non-null float64\n",
      "WeightClassKg     382602 non-null object\n",
      "Squat4Kg          1243 non-null float64\n",
      "BestSquatKg       298071 non-null float64\n",
      "Bench4Kg          1962 non-null float64\n",
      "BestBenchKg       356364 non-null float64\n",
      "Deadlift4Kg       2800 non-null float64\n",
      "BestDeadliftKg    317847 non-null float64\n",
      "TotalKg           363237 non-null float64\n",
      "Place             385322 non-null object\n",
      "Wilks             362194 non-null float64\n",
      "dtypes: float64(10), int64(1), object(6)\n",
      "memory usage: 50.1+ MB\n"
     ]
    }
   ],
   "source": [
    "pwr_lft_df.info()"
   ]
  },
  {
   "cell_type": "markdown",
   "metadata": {},
   "source": [
    "\n"
   ]
  },
  {
   "cell_type": "code",
   "execution_count": 9,
   "metadata": {},
   "outputs": [
    {
     "data": {
      "text/html": [
       "<div>\n",
       "<style scoped>\n",
       "    .dataframe tbody tr th:only-of-type {\n",
       "        vertical-align: middle;\n",
       "    }\n",
       "\n",
       "    .dataframe tbody tr th {\n",
       "        vertical-align: top;\n",
       "    }\n",
       "\n",
       "    .dataframe thead th {\n",
       "        text-align: right;\n",
       "    }\n",
       "</style>\n",
       "<table border=\"1\" class=\"dataframe\">\n",
       "  <thead>\n",
       "    <tr style=\"text-align: right;\">\n",
       "      <th></th>\n",
       "      <th>MeetID</th>\n",
       "      <th>Name</th>\n",
       "      <th>Sex</th>\n",
       "      <th>Equipment</th>\n",
       "      <th>Age</th>\n",
       "      <th>Division</th>\n",
       "      <th>BodyweightKg</th>\n",
       "      <th>WeightClassKg</th>\n",
       "      <th>Squat4Kg</th>\n",
       "      <th>BestSquatKg</th>\n",
       "      <th>Bench4Kg</th>\n",
       "      <th>BestBenchKg</th>\n",
       "      <th>Deadlift4Kg</th>\n",
       "      <th>BestDeadliftKg</th>\n",
       "      <th>TotalKg</th>\n",
       "      <th>Place</th>\n",
       "      <th>Wilks</th>\n",
       "    </tr>\n",
       "  </thead>\n",
       "  <tbody>\n",
       "    <tr>\n",
       "      <td>0</td>\n",
       "      <td>0</td>\n",
       "      <td>Angie Belk Terry</td>\n",
       "      <td>F</td>\n",
       "      <td>Wraps</td>\n",
       "      <td>47.0</td>\n",
       "      <td>Mst 45-49</td>\n",
       "      <td>59.60</td>\n",
       "      <td>60</td>\n",
       "      <td>NaN</td>\n",
       "      <td>47.63</td>\n",
       "      <td>NaN</td>\n",
       "      <td>20.41</td>\n",
       "      <td>NaN</td>\n",
       "      <td>70.31</td>\n",
       "      <td>138.35</td>\n",
       "      <td>1</td>\n",
       "      <td>155.05</td>\n",
       "    </tr>\n",
       "    <tr>\n",
       "      <td>1</td>\n",
       "      <td>0</td>\n",
       "      <td>Dawn Bogart</td>\n",
       "      <td>F</td>\n",
       "      <td>Single-ply</td>\n",
       "      <td>42.0</td>\n",
       "      <td>Mst 40-44</td>\n",
       "      <td>58.51</td>\n",
       "      <td>60</td>\n",
       "      <td>NaN</td>\n",
       "      <td>142.88</td>\n",
       "      <td>NaN</td>\n",
       "      <td>95.25</td>\n",
       "      <td>NaN</td>\n",
       "      <td>163.29</td>\n",
       "      <td>401.42</td>\n",
       "      <td>1</td>\n",
       "      <td>456.38</td>\n",
       "    </tr>\n",
       "    <tr>\n",
       "      <td>2</td>\n",
       "      <td>0</td>\n",
       "      <td>Dawn Bogart</td>\n",
       "      <td>F</td>\n",
       "      <td>Single-ply</td>\n",
       "      <td>42.0</td>\n",
       "      <td>Open Senior</td>\n",
       "      <td>58.51</td>\n",
       "      <td>60</td>\n",
       "      <td>NaN</td>\n",
       "      <td>142.88</td>\n",
       "      <td>NaN</td>\n",
       "      <td>95.25</td>\n",
       "      <td>NaN</td>\n",
       "      <td>163.29</td>\n",
       "      <td>401.42</td>\n",
       "      <td>1</td>\n",
       "      <td>456.38</td>\n",
       "    </tr>\n",
       "    <tr>\n",
       "      <td>3</td>\n",
       "      <td>0</td>\n",
       "      <td>Dawn Bogart</td>\n",
       "      <td>F</td>\n",
       "      <td>Raw</td>\n",
       "      <td>42.0</td>\n",
       "      <td>Open Senior</td>\n",
       "      <td>58.51</td>\n",
       "      <td>60</td>\n",
       "      <td>NaN</td>\n",
       "      <td>NaN</td>\n",
       "      <td>NaN</td>\n",
       "      <td>95.25</td>\n",
       "      <td>NaN</td>\n",
       "      <td>NaN</td>\n",
       "      <td>95.25</td>\n",
       "      <td>1</td>\n",
       "      <td>108.29</td>\n",
       "    </tr>\n",
       "    <tr>\n",
       "      <td>4</td>\n",
       "      <td>0</td>\n",
       "      <td>Destiny Dula</td>\n",
       "      <td>F</td>\n",
       "      <td>Raw</td>\n",
       "      <td>18.0</td>\n",
       "      <td>Teen 18-19</td>\n",
       "      <td>63.68</td>\n",
       "      <td>67.5</td>\n",
       "      <td>NaN</td>\n",
       "      <td>NaN</td>\n",
       "      <td>NaN</td>\n",
       "      <td>31.75</td>\n",
       "      <td>NaN</td>\n",
       "      <td>90.72</td>\n",
       "      <td>122.47</td>\n",
       "      <td>1</td>\n",
       "      <td>130.47</td>\n",
       "    </tr>\n",
       "  </tbody>\n",
       "</table>\n",
       "</div>"
      ],
      "text/plain": [
       "   MeetID              Name Sex   Equipment   Age     Division  BodyweightKg  \\\n",
       "0       0  Angie Belk Terry   F       Wraps  47.0    Mst 45-49         59.60   \n",
       "1       0       Dawn Bogart   F  Single-ply  42.0    Mst 40-44         58.51   \n",
       "2       0       Dawn Bogart   F  Single-ply  42.0  Open Senior         58.51   \n",
       "3       0       Dawn Bogart   F         Raw  42.0  Open Senior         58.51   \n",
       "4       0      Destiny Dula   F         Raw  18.0   Teen 18-19         63.68   \n",
       "\n",
       "  WeightClassKg  Squat4Kg  BestSquatKg  Bench4Kg  BestBenchKg  Deadlift4Kg  \\\n",
       "0            60       NaN        47.63       NaN        20.41          NaN   \n",
       "1            60       NaN       142.88       NaN        95.25          NaN   \n",
       "2            60       NaN       142.88       NaN        95.25          NaN   \n",
       "3            60       NaN          NaN       NaN        95.25          NaN   \n",
       "4          67.5       NaN          NaN       NaN        31.75          NaN   \n",
       "\n",
       "   BestDeadliftKg  TotalKg Place   Wilks  \n",
       "0           70.31   138.35     1  155.05  \n",
       "1          163.29   401.42     1  456.38  \n",
       "2          163.29   401.42     1  456.38  \n",
       "3             NaN    95.25     1  108.29  \n",
       "4           90.72   122.47     1  130.47  "
      ]
     },
     "execution_count": 9,
     "metadata": {},
     "output_type": "execute_result"
    }
   ],
   "source": [
    "pwr_lft_df.head(5)"
   ]
  },
  {
   "cell_type": "code",
   "execution_count": 10,
   "metadata": {},
   "outputs": [
    {
     "data": {
      "text/plain": [
       "Index(['MeetID', 'Name', 'Sex', 'Equipment', 'Age', 'Division', 'BodyweightKg',\n",
       "       'WeightClassKg', 'Squat4Kg', 'BestSquatKg', 'Bench4Kg', 'BestBenchKg',\n",
       "       'Deadlift4Kg', 'BestDeadliftKg', 'TotalKg', 'Place', 'Wilks'],\n",
       "      dtype='object')"
      ]
     },
     "execution_count": 10,
     "metadata": {},
     "output_type": "execute_result"
    }
   ],
   "source": [
    "pwr_lft_df.columns"
   ]
  },
  {
   "cell_type": "markdown",
   "metadata": {},
   "source": [
    "My columns of interest are 'Age',BodyweightKg','BestSquatKg','BestBenchKg',BestDeadliftKg', 'TotalKg','Wilks."
   ]
  },
  {
   "cell_type": "code",
   "execution_count": 11,
   "metadata": {},
   "outputs": [
    {
     "data": {
      "text/html": [
       "<div>\n",
       "<style scoped>\n",
       "    .dataframe tbody tr th:only-of-type {\n",
       "        vertical-align: middle;\n",
       "    }\n",
       "\n",
       "    .dataframe tbody tr th {\n",
       "        vertical-align: top;\n",
       "    }\n",
       "\n",
       "    .dataframe thead th {\n",
       "        text-align: right;\n",
       "    }\n",
       "</style>\n",
       "<table border=\"1\" class=\"dataframe\">\n",
       "  <thead>\n",
       "    <tr style=\"text-align: right;\">\n",
       "      <th></th>\n",
       "      <th>BestDeadliftKg</th>\n",
       "      <th>BestBenchKg</th>\n",
       "      <th>BestSquatKg</th>\n",
       "    </tr>\n",
       "  </thead>\n",
       "  <tbody>\n",
       "    <tr>\n",
       "      <td>count</td>\n",
       "      <td>317847.000000</td>\n",
       "      <td>356364.000000</td>\n",
       "      <td>298071.000000</td>\n",
       "    </tr>\n",
       "    <tr>\n",
       "      <td>mean</td>\n",
       "      <td>195.040633</td>\n",
       "      <td>118.347509</td>\n",
       "      <td>176.569941</td>\n",
       "    </tr>\n",
       "    <tr>\n",
       "      <td>std</td>\n",
       "      <td>61.580675</td>\n",
       "      <td>54.848850</td>\n",
       "      <td>69.222785</td>\n",
       "    </tr>\n",
       "    <tr>\n",
       "      <td>min</td>\n",
       "      <td>-410.000000</td>\n",
       "      <td>-522.500000</td>\n",
       "      <td>-477.500000</td>\n",
       "    </tr>\n",
       "    <tr>\n",
       "      <td>25%</td>\n",
       "      <td>147.500000</td>\n",
       "      <td>79.380000</td>\n",
       "      <td>127.500000</td>\n",
       "    </tr>\n",
       "    <tr>\n",
       "      <td>50%</td>\n",
       "      <td>195.000000</td>\n",
       "      <td>115.000000</td>\n",
       "      <td>174.630000</td>\n",
       "    </tr>\n",
       "    <tr>\n",
       "      <td>75%</td>\n",
       "      <td>238.140000</td>\n",
       "      <td>150.000000</td>\n",
       "      <td>217.720000</td>\n",
       "    </tr>\n",
       "    <tr>\n",
       "      <td>max</td>\n",
       "      <td>460.400000</td>\n",
       "      <td>488.500000</td>\n",
       "      <td>573.790000</td>\n",
       "    </tr>\n",
       "  </tbody>\n",
       "</table>\n",
       "</div>"
      ],
      "text/plain": [
       "       BestDeadliftKg    BestBenchKg    BestSquatKg\n",
       "count   317847.000000  356364.000000  298071.000000\n",
       "mean       195.040633     118.347509     176.569941\n",
       "std         61.580675      54.848850      69.222785\n",
       "min       -410.000000    -522.500000    -477.500000\n",
       "25%        147.500000      79.380000     127.500000\n",
       "50%        195.000000     115.000000     174.630000\n",
       "75%        238.140000     150.000000     217.720000\n",
       "max        460.400000     488.500000     573.790000"
      ]
     },
     "execution_count": 11,
     "metadata": {},
     "output_type": "execute_result"
    }
   ],
   "source": [
    "pwr_lft_df[['BestDeadliftKg','BestBenchKg','BestSquatKg']].describe()"
   ]
  },
  {
   "cell_type": "code",
   "execution_count": 12,
   "metadata": {},
   "outputs": [
    {
     "name": "stdout",
     "output_type": "stream",
     "text": [
      "<class 'pandas.core.frame.DataFrame'>\n",
      "RangeIndex: 386414 entries, 0 to 386413\n",
      "Data columns (total 3 columns):\n",
      "BestDeadliftKg    317847 non-null float64\n",
      "BestBenchKg       356364 non-null float64\n",
      "BestSquatKg       298071 non-null float64\n",
      "dtypes: float64(3)\n",
      "memory usage: 8.8 MB\n"
     ]
    }
   ],
   "source": [
    "pwr_lft_df[['BestDeadliftKg','BestBenchKg','BestSquatKg']].info()"
   ]
  },
  {
   "cell_type": "code",
   "execution_count": 13,
   "metadata": {},
   "outputs": [],
   "source": [
    "# As We can see above the minu=imums valus are negative values and null valus , however, the functions that I have cdedconsiderv only positive values and drop Nan Values"
   ]
  },
  {
   "cell_type": "markdown",
   "metadata": {},
   "source": [
    "### How is the  performance of Power Lifters impacted by different Equipment? Are certain equipment better than others for certain type of lifts?"
   ]
  },
  {
   "cell_type": "markdown",
   "metadata": {},
   "source": [
    "Since it’s inception, the goal of powerlifting has always been to lift the most weight in three lifts — squat, deadlift, and bench press. The Lifts can be broadly classified into Raw and Equipped Type. Raw powerlifting means lifting with little to no additional equipment.\"Equipped” powerlifting means using additional gear to both protect the body and aid in lifting more weight. Power Lifting Gear include Straps,wraps, single-ply and Muti-ply Fabrics.\n",
    "\n",
    "How has the Equipment effected the Performance of the Power Lifters in different Lift Categories?"
   ]
  },
  {
   "cell_type": "code",
   "execution_count": 14,
   "metadata": {},
   "outputs": [
    {
     "data": {
      "text/html": [
       "\n",
       "<div id=\"altair-viz-150580bd2969459b913c671d355a4409\"></div>\n",
       "<script type=\"text/javascript\">\n",
       "  (function(spec, embedOpt){\n",
       "    let outputDiv = document.currentScript.previousElementSibling;\n",
       "    if (outputDiv.id !== \"altair-viz-150580bd2969459b913c671d355a4409\") {\n",
       "      outputDiv = document.getElementById(\"altair-viz-150580bd2969459b913c671d355a4409\");\n",
       "    }\n",
       "    const paths = {\n",
       "      \"vega\": \"https://cdn.jsdelivr.net/npm//vega@5?noext\",\n",
       "      \"vega-lib\": \"https://cdn.jsdelivr.net/npm//vega-lib?noext\",\n",
       "      \"vega-lite\": \"https://cdn.jsdelivr.net/npm//vega-lite@4.8.1?noext\",\n",
       "      \"vega-embed\": \"https://cdn.jsdelivr.net/npm//vega-embed@6?noext\",\n",
       "    };\n",
       "\n",
       "    function loadScript(lib) {\n",
       "      return new Promise(function(resolve, reject) {\n",
       "        var s = document.createElement('script');\n",
       "        s.src = paths[lib];\n",
       "        s.async = true;\n",
       "        s.onload = () => resolve(paths[lib]);\n",
       "        s.onerror = () => reject(`Error loading script: ${paths[lib]}`);\n",
       "        document.getElementsByTagName(\"head\")[0].appendChild(s);\n",
       "      });\n",
       "    }\n",
       "\n",
       "    function showError(err) {\n",
       "      outputDiv.innerHTML = `<div class=\"error\" style=\"color:red;\">${err}</div>`;\n",
       "      throw err;\n",
       "    }\n",
       "\n",
       "    function displayChart(vegaEmbed) {\n",
       "      vegaEmbed(outputDiv, spec, embedOpt)\n",
       "        .catch(err => showError(`Javascript Error: ${err.message}<br>This usually means there's a typo in your chart specification. See the javascript console for the full traceback.`));\n",
       "    }\n",
       "\n",
       "    if(typeof define === \"function\" && define.amd) {\n",
       "      requirejs.config({paths});\n",
       "      require([\"vega-embed\"], displayChart, err => showError(`Error loading script: ${err.message}`));\n",
       "    } else if (typeof vegaEmbed === \"function\") {\n",
       "      displayChart(vegaEmbed);\n",
       "    } else {\n",
       "      loadScript(\"vega\")\n",
       "        .then(() => loadScript(\"vega-lite\"))\n",
       "        .then(() => loadScript(\"vega-embed\"))\n",
       "        .catch(showError)\n",
       "        .then(() => displayChart(vegaEmbed));\n",
       "    }\n",
       "  })({\"config\": {\"view\": {\"continuousWidth\": 400, \"continuousHeight\": 300}}, \"data\": {\"url\": \"https://raw.githubusercontent.com/UBC-MDS/exploratory-data-viz/main/data/power_lifting.csv\"}, \"mark\": \"bar\", \"encoding\": {\"x\": {\"type\": \"nominal\", \"field\": \"Equipment\"}, \"y\": {\"type\": \"quantitative\", \"aggregate\": \"count\"}}, \"title\": \"Distribution of Lifts\", \"$schema\": \"https://vega.github.io/schema/vega-lite/v4.8.1.json\"}, {\"mode\": \"vega-lite\"});\n",
       "</script>"
      ],
      "text/plain": [
       "alt.Chart(...)"
      ]
     },
     "execution_count": 14,
     "metadata": {},
     "output_type": "execute_result"
    }
   ],
   "source": [
    "lifts_distribution= alt.Chart(url_pwr_lft,title =\"Distribution of Lifts\").mark_bar( ).encode(alt.X('Equipment:N'),alt.Y('count()'))\n",
    "lifts_distribution"
   ]
  },
  {
   "cell_type": "code",
   "execution_count": 15,
   "metadata": {},
   "outputs": [
    {
     "data": {
      "text/html": [
       "<div>\n",
       "<style scoped>\n",
       "    .dataframe tbody tr th:only-of-type {\n",
       "        vertical-align: middle;\n",
       "    }\n",
       "\n",
       "    .dataframe tbody tr th {\n",
       "        vertical-align: top;\n",
       "    }\n",
       "\n",
       "    .dataframe thead th {\n",
       "        text-align: right;\n",
       "    }\n",
       "</style>\n",
       "<table border=\"1\" class=\"dataframe\">\n",
       "  <thead>\n",
       "    <tr style=\"text-align: right;\">\n",
       "      <th></th>\n",
       "      <th>BestSquatKg</th>\n",
       "      <th>BestDeadliftKg</th>\n",
       "      <th>BestBenchKg</th>\n",
       "    </tr>\n",
       "    <tr>\n",
       "      <th>Equipment</th>\n",
       "      <th></th>\n",
       "      <th></th>\n",
       "      <th></th>\n",
       "    </tr>\n",
       "  </thead>\n",
       "  <tbody>\n",
       "    <tr>\n",
       "      <td>Multi-ply</td>\n",
       "      <td>5590</td>\n",
       "      <td>6408</td>\n",
       "      <td>7842</td>\n",
       "    </tr>\n",
       "    <tr>\n",
       "      <td>Raw</td>\n",
       "      <td>136210</td>\n",
       "      <td>155816</td>\n",
       "      <td>172729</td>\n",
       "    </tr>\n",
       "    <tr>\n",
       "      <td>Single-ply</td>\n",
       "      <td>110894</td>\n",
       "      <td>110995</td>\n",
       "      <td>130962</td>\n",
       "    </tr>\n",
       "    <tr>\n",
       "      <td>Straps</td>\n",
       "      <td>0</td>\n",
       "      <td>7</td>\n",
       "      <td>0</td>\n",
       "    </tr>\n",
       "    <tr>\n",
       "      <td>Wraps</td>\n",
       "      <td>45377</td>\n",
       "      <td>44621</td>\n",
       "      <td>44831</td>\n",
       "    </tr>\n",
       "  </tbody>\n",
       "</table>\n",
       "</div>"
      ],
      "text/plain": [
       "            BestSquatKg  BestDeadliftKg  BestBenchKg\n",
       "Equipment                                           \n",
       "Multi-ply          5590            6408         7842\n",
       "Raw              136210          155816       172729\n",
       "Single-ply       110894          110995       130962\n",
       "Straps                0               7            0\n",
       "Wraps             45377           44621        44831"
      ]
     },
     "execution_count": 15,
     "metadata": {},
     "output_type": "execute_result"
    }
   ],
   "source": [
    "pwr_lft_df[['BestSquatKg','BestDeadliftKg','BestBenchKg','Equipment']].groupby(['Equipment']).count()"
   ]
  },
  {
   "cell_type": "markdown",
   "metadata": {},
   "source": [
    "Mean of Weight Lifted for Different Lift Types"
   ]
  },
  {
   "cell_type": "code",
   "execution_count": 16,
   "metadata": {},
   "outputs": [],
   "source": [
    "# The Sample Size of Starps is too small to draw meaningful conclusions so we will not consider it\n",
    "pwr_lft_df=pwr_lft_df[pwr_lft_df['Equipment']!='Straps']"
   ]
  },
  {
   "cell_type": "code",
   "execution_count": 17,
   "metadata": {},
   "outputs": [
    {
     "data": {
      "text/html": [
       "<div>\n",
       "<style scoped>\n",
       "    .dataframe tbody tr th:only-of-type {\n",
       "        vertical-align: middle;\n",
       "    }\n",
       "\n",
       "    .dataframe tbody tr th {\n",
       "        vertical-align: top;\n",
       "    }\n",
       "\n",
       "    .dataframe thead th {\n",
       "        text-align: right;\n",
       "    }\n",
       "</style>\n",
       "<table border=\"1\" class=\"dataframe\">\n",
       "  <thead>\n",
       "    <tr style=\"text-align: right;\">\n",
       "      <th></th>\n",
       "      <th>Equipment</th>\n",
       "      <th>BestSquatKg</th>\n",
       "      <th>BestDeadliftKg</th>\n",
       "      <th>BestBenchKg</th>\n",
       "    </tr>\n",
       "  </thead>\n",
       "  <tbody>\n",
       "    <tr>\n",
       "      <td>0</td>\n",
       "      <td>Multi-ply</td>\n",
       "      <td>294.71266</td>\n",
       "      <td>249.523414</td>\n",
       "      <td>202.032113</td>\n",
       "    </tr>\n",
       "  </tbody>\n",
       "</table>\n",
       "</div>"
      ],
      "text/plain": [
       "   Equipment  BestSquatKg  BestDeadliftKg  BestBenchKg\n",
       "0  Multi-ply    294.71266      249.523414   202.032113"
      ]
     },
     "execution_count": 17,
     "metadata": {},
     "output_type": "execute_result"
    }
   ],
   "source": [
    "mean_df =pwr_lft_df[['BestSquatKg','BestDeadliftKg','BestBenchKg','Equipment']].groupby(['Equipment']).mean().reset_index()\n",
    "mean_df.head(1)"
   ]
  },
  {
   "cell_type": "code",
   "execution_count": 18,
   "metadata": {},
   "outputs": [
    {
     "data": {
      "text/html": [
       "<div>\n",
       "<style scoped>\n",
       "    .dataframe tbody tr th:only-of-type {\n",
       "        vertical-align: middle;\n",
       "    }\n",
       "\n",
       "    .dataframe tbody tr th {\n",
       "        vertical-align: top;\n",
       "    }\n",
       "\n",
       "    .dataframe thead th {\n",
       "        text-align: right;\n",
       "    }\n",
       "</style>\n",
       "<table border=\"1\" class=\"dataframe\">\n",
       "  <thead>\n",
       "    <tr style=\"text-align: right;\">\n",
       "      <th></th>\n",
       "      <th>Equipment</th>\n",
       "      <th>variable</th>\n",
       "      <th>value</th>\n",
       "    </tr>\n",
       "  </thead>\n",
       "  <tbody>\n",
       "    <tr>\n",
       "      <td>0</td>\n",
       "      <td>Multi-ply</td>\n",
       "      <td>BestSquatKg</td>\n",
       "      <td>294.71266</td>\n",
       "    </tr>\n",
       "  </tbody>\n",
       "</table>\n",
       "</div>"
      ],
      "text/plain": [
       "   Equipment     variable      value\n",
       "0  Multi-ply  BestSquatKg  294.71266"
      ]
     },
     "execution_count": 18,
     "metadata": {},
     "output_type": "execute_result"
    }
   ],
   "source": [
    "table_mean =pd.melt(mean_df, id_vars=['Equipment'], value_vars=['BestSquatKg', 'BestDeadliftKg', 'BestBenchKg'])\n",
    "table_mean.head(1)"
   ]
  },
  {
   "cell_type": "code",
   "execution_count": 19,
   "metadata": {},
   "outputs": [
    {
     "data": {
      "text/html": [
       "\n",
       "<div id=\"altair-viz-2a493449956b4056803f9a4eba01c22a\"></div>\n",
       "<script type=\"text/javascript\">\n",
       "  (function(spec, embedOpt){\n",
       "    let outputDiv = document.currentScript.previousElementSibling;\n",
       "    if (outputDiv.id !== \"altair-viz-2a493449956b4056803f9a4eba01c22a\") {\n",
       "      outputDiv = document.getElementById(\"altair-viz-2a493449956b4056803f9a4eba01c22a\");\n",
       "    }\n",
       "    const paths = {\n",
       "      \"vega\": \"https://cdn.jsdelivr.net/npm//vega@5?noext\",\n",
       "      \"vega-lib\": \"https://cdn.jsdelivr.net/npm//vega-lib?noext\",\n",
       "      \"vega-lite\": \"https://cdn.jsdelivr.net/npm//vega-lite@4.8.1?noext\",\n",
       "      \"vega-embed\": \"https://cdn.jsdelivr.net/npm//vega-embed@6?noext\",\n",
       "    };\n",
       "\n",
       "    function loadScript(lib) {\n",
       "      return new Promise(function(resolve, reject) {\n",
       "        var s = document.createElement('script');\n",
       "        s.src = paths[lib];\n",
       "        s.async = true;\n",
       "        s.onload = () => resolve(paths[lib]);\n",
       "        s.onerror = () => reject(`Error loading script: ${paths[lib]}`);\n",
       "        document.getElementsByTagName(\"head\")[0].appendChild(s);\n",
       "      });\n",
       "    }\n",
       "\n",
       "    function showError(err) {\n",
       "      outputDiv.innerHTML = `<div class=\"error\" style=\"color:red;\">${err}</div>`;\n",
       "      throw err;\n",
       "    }\n",
       "\n",
       "    function displayChart(vegaEmbed) {\n",
       "      vegaEmbed(outputDiv, spec, embedOpt)\n",
       "        .catch(err => showError(`Javascript Error: ${err.message}<br>This usually means there's a typo in your chart specification. See the javascript console for the full traceback.`));\n",
       "    }\n",
       "\n",
       "    if(typeof define === \"function\" && define.amd) {\n",
       "      requirejs.config({paths});\n",
       "      require([\"vega-embed\"], displayChart, err => showError(`Error loading script: ${err.message}`));\n",
       "    } else if (typeof vegaEmbed === \"function\") {\n",
       "      displayChart(vegaEmbed);\n",
       "    } else {\n",
       "      loadScript(\"vega\")\n",
       "        .then(() => loadScript(\"vega-lite\"))\n",
       "        .then(() => loadScript(\"vega-embed\"))\n",
       "        .catch(showError)\n",
       "        .then(() => displayChart(vegaEmbed));\n",
       "    }\n",
       "  })({\"config\": {\"view\": {\"continuousWidth\": 400, \"continuousHeight\": 300}}, \"data\": {\"url\": \"http://localhost:16766/4b6a95ccfcd7186b52b55cf49e518e74.json\"}, \"mark\": {\"type\": \"bar\", \"opacity\": 0.3}, \"encoding\": {\"color\": {\"type\": \"nominal\", \"field\": \"variable\"}, \"column\": {\"type\": \"nominal\", \"field\": \"variable\"}, \"x\": {\"type\": \"nominal\", \"field\": \"Equipment\"}, \"y\": {\"type\": \"quantitative\", \"field\": \"value\"}}, \"height\": 150, \"title\": \"Mean Kilograms of different Lift Types\", \"width\": 150, \"$schema\": \"https://vega.github.io/schema/vega-lite/v4.8.1.json\"}, {\"mode\": \"vega-lite\"});\n",
       "</script>"
      ],
      "text/plain": [
       "alt.Chart(...)"
      ]
     },
     "execution_count": 19,
     "metadata": {},
     "output_type": "execute_result"
    }
   ],
   "source": [
    "# Let us plot the mean of Weight Lifted for different Lift Types using different 'equipment'\n",
    "#to get a basic idea of how the equipment has impacted lifts performance\n",
    "chart_mean_lifts = alt.Chart(table_mean,title ='Mean Kilograms of different Lift Types').mark_bar(\n",
    "    opacity=0.3,\n",
    "    ).encode(\n",
    "    column = alt.Column('variable'),\n",
    "    x = alt.X('Equipment:N'),\n",
    "    y = alt.Y('value:Q'),\n",
    "    color = alt.Color('variable:N'),\n",
    ").properties(width= 150, height = 150)\n",
    "chart_mean_lifts"
   ]
  },
  {
   "cell_type": "markdown",
   "metadata": {},
   "source": [
    "As we can see generally powerlifting performance improves as the powerlifter gets “more equipped,”.The average weight Lift for equipped(Multi-ply, single-ply, Wraps) exceeds the Raw type of Lift for Bench and Squat Type of the Lifts with Multi-ply seeming to have much better average performance than other Equipment Type. \n",
    "\n",
    "For the Deadlift Category, however, the mean value of the Raw is slightly higher(almost same) as that of Single-ply for Dead Lift. Hence all equipped Lifts may not always be better than Raw Lifts?The means of the Wraps and Multi-ply are also very close, hence, further analysis is required to uderstand the impact of different Equipment types on Lifts."
   ]
  },
  {
   "cell_type": "code",
   "execution_count": 20,
   "metadata": {},
   "outputs": [
    {
     "data": {
      "text/html": [
       "<div>\n",
       "<style scoped>\n",
       "    .dataframe tbody tr th:only-of-type {\n",
       "        vertical-align: middle;\n",
       "    }\n",
       "\n",
       "    .dataframe tbody tr th {\n",
       "        vertical-align: top;\n",
       "    }\n",
       "\n",
       "    .dataframe thead th {\n",
       "        text-align: right;\n",
       "    }\n",
       "</style>\n",
       "<table border=\"1\" class=\"dataframe\">\n",
       "  <thead>\n",
       "    <tr style=\"text-align: right;\">\n",
       "      <th></th>\n",
       "      <th>BestDeadliftKg</th>\n",
       "    </tr>\n",
       "  </thead>\n",
       "  <tbody>\n",
       "    <tr>\n",
       "      <td>0</td>\n",
       "      <td>249.523414</td>\n",
       "    </tr>\n",
       "    <tr>\n",
       "      <td>3</td>\n",
       "      <td>213.524099</td>\n",
       "    </tr>\n",
       "  </tbody>\n",
       "</table>\n",
       "</div>"
      ],
      "text/plain": [
       "   BestDeadliftKg\n",
       "0      249.523414\n",
       "3      213.524099"
      ]
     },
     "execution_count": 20,
     "metadata": {},
     "output_type": "execute_result"
    }
   ],
   "source": [
    "mean_df[(mean_df['Equipment']=='Multi-ply') | (mean_df['Equipment']=='Wraps')][['BestDeadliftKg']]"
   ]
  },
  {
   "cell_type": "code",
   "execution_count": 21,
   "metadata": {},
   "outputs": [
    {
     "data": {
      "text/html": [
       "<div>\n",
       "<style scoped>\n",
       "    .dataframe tbody tr th:only-of-type {\n",
       "        vertical-align: middle;\n",
       "    }\n",
       "\n",
       "    .dataframe tbody tr th {\n",
       "        vertical-align: top;\n",
       "    }\n",
       "\n",
       "    .dataframe thead th {\n",
       "        text-align: right;\n",
       "    }\n",
       "</style>\n",
       "<table border=\"1\" class=\"dataframe\">\n",
       "  <thead>\n",
       "    <tr style=\"text-align: right;\">\n",
       "      <th></th>\n",
       "      <th>BestDeadliftKg</th>\n",
       "    </tr>\n",
       "  </thead>\n",
       "  <tbody>\n",
       "    <tr>\n",
       "      <td>std</td>\n",
       "      <td>25.45536</td>\n",
       "    </tr>\n",
       "  </tbody>\n",
       "</table>\n",
       "</div>"
      ],
      "text/plain": [
       "     BestDeadliftKg\n",
       "std        25.45536"
      ]
     },
     "execution_count": 21,
     "metadata": {},
     "output_type": "execute_result"
    }
   ],
   "source": [
    "mean_df[(mean_df['Equipment']=='Multi-ply') | (mean_df['Equipment']=='Wraps')][['BestDeadliftKg']].describe()[2:3]"
   ]
  },
  {
   "cell_type": "code",
   "execution_count": 22,
   "metadata": {},
   "outputs": [
    {
     "data": {
      "text/html": [
       "<div>\n",
       "<style scoped>\n",
       "    .dataframe tbody tr th:only-of-type {\n",
       "        vertical-align: middle;\n",
       "    }\n",
       "\n",
       "    .dataframe tbody tr th {\n",
       "        vertical-align: top;\n",
       "    }\n",
       "\n",
       "    .dataframe thead th {\n",
       "        text-align: right;\n",
       "    }\n",
       "</style>\n",
       "<table border=\"1\" class=\"dataframe\">\n",
       "  <thead>\n",
       "    <tr style=\"text-align: right;\">\n",
       "      <th></th>\n",
       "      <th>Equipment</th>\n",
       "      <th>BestDeadliftKg</th>\n",
       "    </tr>\n",
       "  </thead>\n",
       "  <tbody>\n",
       "    <tr>\n",
       "      <td>1</td>\n",
       "      <td>Raw</td>\n",
       "      <td>190.679162</td>\n",
       "    </tr>\n",
       "    <tr>\n",
       "      <td>2</td>\n",
       "      <td>Single-ply</td>\n",
       "      <td>190.575193</td>\n",
       "    </tr>\n",
       "  </tbody>\n",
       "</table>\n",
       "</div>"
      ],
      "text/plain": [
       "    Equipment  BestDeadliftKg\n",
       "1         Raw      190.679162\n",
       "2  Single-ply      190.575193"
      ]
     },
     "execution_count": 22,
     "metadata": {},
     "output_type": "execute_result"
    }
   ],
   "source": [
    "mean_df[(mean_df['Equipment']=='Raw') | (mean_df['Equipment']=='Single-ply')][['Equipment','BestDeadliftKg']]"
   ]
  },
  {
   "cell_type": "markdown",
   "metadata": {},
   "source": [
    "To further understand the impact of different equipment on different lifts and athlete performance, let us plot different Lifts against athlete weights. We will approximate our data using a linear regressor as it will approximate how the performance of the athletes with different weights /in different weight categories are effected by different Equipment.\n"
   ]
  },
  {
   "cell_type": "code",
   "execution_count": 23,
   "metadata": {},
   "outputs": [
    {
     "data": {
      "text/html": [
       "<div>\n",
       "<style scoped>\n",
       "    .dataframe tbody tr th:only-of-type {\n",
       "        vertical-align: middle;\n",
       "    }\n",
       "\n",
       "    .dataframe tbody tr th {\n",
       "        vertical-align: top;\n",
       "    }\n",
       "\n",
       "    .dataframe thead th {\n",
       "        text-align: right;\n",
       "    }\n",
       "</style>\n",
       "<table border=\"1\" class=\"dataframe\">\n",
       "  <thead>\n",
       "    <tr style=\"text-align: right;\">\n",
       "      <th></th>\n",
       "      <th>BodyweightKg</th>\n",
       "      <th>BestSquatKg</th>\n",
       "      <th>BestDeadliftKg</th>\n",
       "      <th>BestBenchKg</th>\n",
       "    </tr>\n",
       "  </thead>\n",
       "  <tbody>\n",
       "    <tr>\n",
       "      <td>count</td>\n",
       "      <td>384005.000000</td>\n",
       "      <td>298071.000000</td>\n",
       "      <td>317840.000000</td>\n",
       "      <td>356364.000000</td>\n",
       "    </tr>\n",
       "    <tr>\n",
       "      <td>mean</td>\n",
       "      <td>86.934371</td>\n",
       "      <td>176.569941</td>\n",
       "      <td>195.036379</td>\n",
       "      <td>118.347509</td>\n",
       "    </tr>\n",
       "    <tr>\n",
       "      <td>std</td>\n",
       "      <td>23.140396</td>\n",
       "      <td>69.222785</td>\n",
       "      <td>61.574514</td>\n",
       "      <td>54.848850</td>\n",
       "    </tr>\n",
       "    <tr>\n",
       "      <td>min</td>\n",
       "      <td>15.880000</td>\n",
       "      <td>-477.500000</td>\n",
       "      <td>-410.000000</td>\n",
       "      <td>-522.500000</td>\n",
       "    </tr>\n",
       "    <tr>\n",
       "      <td>25%</td>\n",
       "      <td>70.300000</td>\n",
       "      <td>127.500000</td>\n",
       "      <td>147.500000</td>\n",
       "      <td>79.380000</td>\n",
       "    </tr>\n",
       "    <tr>\n",
       "      <td>50%</td>\n",
       "      <td>83.200000</td>\n",
       "      <td>174.630000</td>\n",
       "      <td>195.000000</td>\n",
       "      <td>115.000000</td>\n",
       "    </tr>\n",
       "    <tr>\n",
       "      <td>75%</td>\n",
       "      <td>100.000000</td>\n",
       "      <td>217.720000</td>\n",
       "      <td>238.140000</td>\n",
       "      <td>150.000000</td>\n",
       "    </tr>\n",
       "    <tr>\n",
       "      <td>max</td>\n",
       "      <td>242.400000</td>\n",
       "      <td>573.790000</td>\n",
       "      <td>460.400000</td>\n",
       "      <td>488.500000</td>\n",
       "    </tr>\n",
       "  </tbody>\n",
       "</table>\n",
       "</div>"
      ],
      "text/plain": [
       "        BodyweightKg    BestSquatKg  BestDeadliftKg    BestBenchKg\n",
       "count  384005.000000  298071.000000   317840.000000  356364.000000\n",
       "mean       86.934371     176.569941      195.036379     118.347509\n",
       "std        23.140396      69.222785       61.574514      54.848850\n",
       "min        15.880000    -477.500000     -410.000000    -522.500000\n",
       "25%        70.300000     127.500000      147.500000      79.380000\n",
       "50%        83.200000     174.630000      195.000000     115.000000\n",
       "75%       100.000000     217.720000      238.140000     150.000000\n",
       "max       242.400000     573.790000      460.400000     488.500000"
      ]
     },
     "execution_count": 23,
     "metadata": {},
     "output_type": "execute_result"
    }
   ],
   "source": [
    "pwr_lft_df[['BodyweightKg','BestSquatKg','BestDeadliftKg','BestBenchKg']].describe()"
   ]
  },
  {
   "cell_type": "code",
   "execution_count": 24,
   "metadata": {},
   "outputs": [
    {
     "name": "stdout",
     "output_type": "stream",
     "text": [
      "<class 'pandas.core.frame.DataFrame'>\n",
      "Int64Index: 386407 entries, 0 to 386413\n",
      "Data columns (total 4 columns):\n",
      "BodyweightKg      384005 non-null float64\n",
      "BestSquatKg       298071 non-null float64\n",
      "BestDeadliftKg    317840 non-null float64\n",
      "BestBenchKg       356364 non-null float64\n",
      "dtypes: float64(4)\n",
      "memory usage: 14.7 MB\n"
     ]
    }
   ],
   "source": [
    "pwr_lft_df[['BodyweightKg','BestSquatKg','BestDeadliftKg','BestBenchKg']].info()"
   ]
  },
  {
   "cell_type": "code",
   "execution_count": 25,
   "metadata": {},
   "outputs": [],
   "source": [
    "#As we can see above the minimum of the different lifts is negative and there is missing data as well. \n",
    "#The following code does not consider negative values or Nan Values while creating Plots"
   ]
  },
  {
   "cell_type": "code",
   "execution_count": 26,
   "metadata": {},
   "outputs": [],
   "source": [
    "best_squat_body_weight = graph_maker.functionChart (url_pwr_lft,'BodyweightKg','BestSquatKg',600)"
   ]
  },
  {
   "cell_type": "code",
   "execution_count": 27,
   "metadata": {},
   "outputs": [],
   "source": [
    "best_daedlift_body_weight = graph_maker.functionChart (url_pwr_lft,'BodyweightKg','BestDeadliftKg',450)"
   ]
  },
  {
   "cell_type": "code",
   "execution_count": 28,
   "metadata": {},
   "outputs": [],
   "source": [
    "best_bench_body_weight = graph_maker.functionChart (url_pwr_lft,'BodyweightKg','BestBenchKg',600)"
   ]
  },
  {
   "cell_type": "code",
   "execution_count": 29,
   "metadata": {},
   "outputs": [
    {
     "data": {
      "text/html": [
       "\n",
       "<div id=\"altair-viz-8ad2a96ed47640daa9f088bbaa86a956\"></div>\n",
       "<script type=\"text/javascript\">\n",
       "  (function(spec, embedOpt){\n",
       "    let outputDiv = document.currentScript.previousElementSibling;\n",
       "    if (outputDiv.id !== \"altair-viz-8ad2a96ed47640daa9f088bbaa86a956\") {\n",
       "      outputDiv = document.getElementById(\"altair-viz-8ad2a96ed47640daa9f088bbaa86a956\");\n",
       "    }\n",
       "    const paths = {\n",
       "      \"vega\": \"https://cdn.jsdelivr.net/npm//vega@5?noext\",\n",
       "      \"vega-lib\": \"https://cdn.jsdelivr.net/npm//vega-lib?noext\",\n",
       "      \"vega-lite\": \"https://cdn.jsdelivr.net/npm//vega-lite@4.8.1?noext\",\n",
       "      \"vega-embed\": \"https://cdn.jsdelivr.net/npm//vega-embed@6?noext\",\n",
       "    };\n",
       "\n",
       "    function loadScript(lib) {\n",
       "      return new Promise(function(resolve, reject) {\n",
       "        var s = document.createElement('script');\n",
       "        s.src = paths[lib];\n",
       "        s.async = true;\n",
       "        s.onload = () => resolve(paths[lib]);\n",
       "        s.onerror = () => reject(`Error loading script: ${paths[lib]}`);\n",
       "        document.getElementsByTagName(\"head\")[0].appendChild(s);\n",
       "      });\n",
       "    }\n",
       "\n",
       "    function showError(err) {\n",
       "      outputDiv.innerHTML = `<div class=\"error\" style=\"color:red;\">${err}</div>`;\n",
       "      throw err;\n",
       "    }\n",
       "\n",
       "    function displayChart(vegaEmbed) {\n",
       "      vegaEmbed(outputDiv, spec, embedOpt)\n",
       "        .catch(err => showError(`Javascript Error: ${err.message}<br>This usually means there's a typo in your chart specification. See the javascript console for the full traceback.`));\n",
       "    }\n",
       "\n",
       "    if(typeof define === \"function\" && define.amd) {\n",
       "      requirejs.config({paths});\n",
       "      require([\"vega-embed\"], displayChart, err => showError(`Error loading script: ${err.message}`));\n",
       "    } else if (typeof vegaEmbed === \"function\") {\n",
       "      displayChart(vegaEmbed);\n",
       "    } else {\n",
       "      loadScript(\"vega\")\n",
       "        .then(() => loadScript(\"vega-lite\"))\n",
       "        .then(() => loadScript(\"vega-embed\"))\n",
       "        .catch(showError)\n",
       "        .then(() => displayChart(vegaEmbed));\n",
       "    }\n",
       "  })({\"config\": {\"view\": {\"continuousWidth\": 400, \"continuousHeight\": 300}}, \"hconcat\": [{\"layer\": [{\"mark\": {\"type\": \"circle\", \"clip\": true, \"size\": 10}, \"encoding\": {\"color\": {\"type\": \"nominal\", \"field\": \"Equipment\"}, \"opacity\": {\"condition\": {\"value\": 0.8, \"selection\": \"selector001\"}, \"value\": 0}, \"tooltip\": [{\"type\": \"quantitative\", \"field\": \"BodyweightKg\", \"title\": \"Body Weight Kilograms\"}, {\"type\": \"quantitative\", \"field\": \"BestSquatKg\", \"title\": \"Best Squat Kilogram\"}, {\"type\": \"quantitative\", \"field\": \"BestBenchKg\", \"title\": \"Best Bench Kilogram\"}, {\"type\": \"quantitative\", \"field\": \"BestDeadliftKg\", \"title\": \"Best Dead Lift Kilogram\"}, {\"type\": \"nominal\", \"field\": \"Equipment\", \"title\": \"Equipment\"}], \"x\": {\"type\": \"quantitative\", \"axis\": {\"title\": \"BodyWeight(Kgs)\"}, \"field\": \"BodyweightKg\", \"impute\": {\"value\": null}, \"scale\": {\"domain\": [10, 250], \"zero\": false}}, \"y\": {\"type\": \"quantitative\", \"axis\": {\"title\": \"BestSquatKg(Kgs)\"}, \"field\": \"BestSquatKg\", \"impute\": {\"value\": null}, \"scale\": {\"domain\": [10, 600], \"zero\": false}}}, \"height\": 300, \"selection\": {\"selector001\": {\"type\": \"multi\", \"fields\": [\"Equipment\"], \"bind\": \"legend\"}}, \"transform\": [{\"filter\": \"(datum['BodyweightKg'] > 0)\"}, {\"filter\": \"(datum['BestSquatKg'] > 0)\"}], \"width\": 300}, {\"mark\": {\"type\": \"line\", \"size\": 4}, \"encoding\": {\"color\": {\"type\": \"nominal\", \"field\": \"Equipment\"}, \"opacity\": {\"condition\": {\"value\": 0.8, \"selection\": \"selector001\"}, \"value\": 0}, \"tooltip\": [{\"type\": \"quantitative\", \"field\": \"BodyweightKg\", \"title\": \"Body Weight Kilograms\"}, {\"type\": \"quantitative\", \"field\": \"BestSquatKg\", \"title\": \"Best Squat Kilogram\"}, {\"type\": \"quantitative\", \"field\": \"BestBenchKg\", \"title\": \"Best Bench Kilogram\"}, {\"type\": \"quantitative\", \"field\": \"BestDeadliftKg\", \"title\": \"Best Dead Lift Kilogram\"}, {\"type\": \"nominal\", \"field\": \"Equipment\", \"title\": \"Equipment\"}], \"x\": {\"type\": \"quantitative\", \"axis\": {\"title\": \"BodyWeight(Kgs)\"}, \"field\": \"BodyweightKg\", \"impute\": {\"value\": null}, \"scale\": {\"domain\": [10, 250], \"zero\": false}}, \"y\": {\"type\": \"quantitative\", \"axis\": {\"title\": \"BestSquatKg(Kgs)\"}, \"field\": \"BestSquatKg\", \"impute\": {\"value\": null}, \"scale\": {\"domain\": [10, 600], \"zero\": false}}}, \"height\": 300, \"transform\": [{\"filter\": \"(datum['BodyweightKg'] > 0)\"}, {\"filter\": \"(datum['BestSquatKg'] > 0)\"}, {\"on\": \"BodyweightKg\", \"regression\": \"BestSquatKg\", \"extent\": [20, 225], \"groupby\": [\"Equipment\"]}], \"width\": 300}]}, {\"layer\": [{\"mark\": {\"type\": \"circle\", \"clip\": true, \"size\": 10}, \"encoding\": {\"color\": {\"type\": \"nominal\", \"field\": \"Equipment\"}, \"opacity\": {\"condition\": {\"value\": 0.8, \"selection\": \"selector002\"}, \"value\": 0}, \"tooltip\": [{\"type\": \"quantitative\", \"field\": \"BodyweightKg\", \"title\": \"Body Weight Kilograms\"}, {\"type\": \"quantitative\", \"field\": \"BestSquatKg\", \"title\": \"Best Squat Kilogram\"}, {\"type\": \"quantitative\", \"field\": \"BestBenchKg\", \"title\": \"Best Bench Kilogram\"}, {\"type\": \"quantitative\", \"field\": \"BestDeadliftKg\", \"title\": \"Best Dead Lift Kilogram\"}, {\"type\": \"nominal\", \"field\": \"Equipment\", \"title\": \"Equipment\"}], \"x\": {\"type\": \"quantitative\", \"axis\": {\"title\": \"BodyWeight(Kgs)\"}, \"field\": \"BodyweightKg\", \"impute\": {\"value\": null}, \"scale\": {\"domain\": [10, 250], \"zero\": false}}, \"y\": {\"type\": \"quantitative\", \"axis\": {\"title\": \"BestDeadliftKg(Kgs)\"}, \"field\": \"BestDeadliftKg\", \"impute\": {\"value\": null}, \"scale\": {\"domain\": [10, 450], \"zero\": false}}}, \"height\": 300, \"selection\": {\"selector002\": {\"type\": \"multi\", \"fields\": [\"Equipment\"], \"bind\": \"legend\"}}, \"transform\": [{\"filter\": \"(datum['BodyweightKg'] > 0)\"}, {\"filter\": \"(datum['BestDeadliftKg'] > 0)\"}], \"width\": 300}, {\"mark\": {\"type\": \"line\", \"size\": 4}, \"encoding\": {\"color\": {\"type\": \"nominal\", \"field\": \"Equipment\"}, \"opacity\": {\"condition\": {\"value\": 0.8, \"selection\": \"selector002\"}, \"value\": 0}, \"tooltip\": [{\"type\": \"quantitative\", \"field\": \"BodyweightKg\", \"title\": \"Body Weight Kilograms\"}, {\"type\": \"quantitative\", \"field\": \"BestSquatKg\", \"title\": \"Best Squat Kilogram\"}, {\"type\": \"quantitative\", \"field\": \"BestBenchKg\", \"title\": \"Best Bench Kilogram\"}, {\"type\": \"quantitative\", \"field\": \"BestDeadliftKg\", \"title\": \"Best Dead Lift Kilogram\"}, {\"type\": \"nominal\", \"field\": \"Equipment\", \"title\": \"Equipment\"}], \"x\": {\"type\": \"quantitative\", \"axis\": {\"title\": \"BodyWeight(Kgs)\"}, \"field\": \"BodyweightKg\", \"impute\": {\"value\": null}, \"scale\": {\"domain\": [10, 250], \"zero\": false}}, \"y\": {\"type\": \"quantitative\", \"axis\": {\"title\": \"BestDeadliftKg(Kgs)\"}, \"field\": \"BestDeadliftKg\", \"impute\": {\"value\": null}, \"scale\": {\"domain\": [10, 450], \"zero\": false}}}, \"height\": 300, \"transform\": [{\"filter\": \"(datum['BodyweightKg'] > 0)\"}, {\"filter\": \"(datum['BestDeadliftKg'] > 0)\"}, {\"on\": \"BodyweightKg\", \"regression\": \"BestDeadliftKg\", \"extent\": [20, 225], \"groupby\": [\"Equipment\"]}], \"width\": 300}]}, {\"layer\": [{\"mark\": {\"type\": \"circle\", \"clip\": true, \"size\": 10}, \"encoding\": {\"color\": {\"type\": \"nominal\", \"field\": \"Equipment\"}, \"opacity\": {\"condition\": {\"value\": 0.8, \"selection\": \"selector003\"}, \"value\": 0}, \"tooltip\": [{\"type\": \"quantitative\", \"field\": \"BodyweightKg\", \"title\": \"Body Weight Kilograms\"}, {\"type\": \"quantitative\", \"field\": \"BestSquatKg\", \"title\": \"Best Squat Kilogram\"}, {\"type\": \"quantitative\", \"field\": \"BestBenchKg\", \"title\": \"Best Bench Kilogram\"}, {\"type\": \"quantitative\", \"field\": \"BestDeadliftKg\", \"title\": \"Best Dead Lift Kilogram\"}, {\"type\": \"nominal\", \"field\": \"Equipment\", \"title\": \"Equipment\"}], \"x\": {\"type\": \"quantitative\", \"axis\": {\"title\": \"BodyWeight(Kgs)\"}, \"field\": \"BodyweightKg\", \"impute\": {\"value\": null}, \"scale\": {\"domain\": [10, 250], \"zero\": false}}, \"y\": {\"type\": \"quantitative\", \"axis\": {\"title\": \"BestBenchKg(Kgs)\"}, \"field\": \"BestBenchKg\", \"impute\": {\"value\": null}, \"scale\": {\"domain\": [10, 600], \"zero\": false}}}, \"height\": 300, \"selection\": {\"selector003\": {\"type\": \"multi\", \"fields\": [\"Equipment\"], \"bind\": \"legend\"}}, \"transform\": [{\"filter\": \"(datum['BodyweightKg'] > 0)\"}, {\"filter\": \"(datum['BestBenchKg'] > 0)\"}], \"width\": 300}, {\"mark\": {\"type\": \"line\", \"size\": 4}, \"encoding\": {\"color\": {\"type\": \"nominal\", \"field\": \"Equipment\"}, \"opacity\": {\"condition\": {\"value\": 0.8, \"selection\": \"selector003\"}, \"value\": 0}, \"tooltip\": [{\"type\": \"quantitative\", \"field\": \"BodyweightKg\", \"title\": \"Body Weight Kilograms\"}, {\"type\": \"quantitative\", \"field\": \"BestSquatKg\", \"title\": \"Best Squat Kilogram\"}, {\"type\": \"quantitative\", \"field\": \"BestBenchKg\", \"title\": \"Best Bench Kilogram\"}, {\"type\": \"quantitative\", \"field\": \"BestDeadliftKg\", \"title\": \"Best Dead Lift Kilogram\"}, {\"type\": \"nominal\", \"field\": \"Equipment\", \"title\": \"Equipment\"}], \"x\": {\"type\": \"quantitative\", \"axis\": {\"title\": \"BodyWeight(Kgs)\"}, \"field\": \"BodyweightKg\", \"impute\": {\"value\": null}, \"scale\": {\"domain\": [10, 250], \"zero\": false}}, \"y\": {\"type\": \"quantitative\", \"axis\": {\"title\": \"BestBenchKg(Kgs)\"}, \"field\": \"BestBenchKg\", \"impute\": {\"value\": null}, \"scale\": {\"domain\": [10, 600], \"zero\": false}}}, \"height\": 300, \"transform\": [{\"filter\": \"(datum['BodyweightKg'] > 0)\"}, {\"filter\": \"(datum['BestBenchKg'] > 0)\"}, {\"on\": \"BodyweightKg\", \"regression\": \"BestBenchKg\", \"extent\": [20, 225], \"groupby\": [\"Equipment\"]}], \"width\": 300}]}], \"data\": {\"url\": \"https://raw.githubusercontent.com/UBC-MDS/exploratory-data-viz/main/data/power_lifting.csv\"}, \"$schema\": \"https://vega.github.io/schema/vega-lite/v4.8.1.json\"}, {\"mode\": \"vega-lite\"});\n",
       "</script>"
      ],
      "text/plain": [
       "alt.HConcatChart(...)"
      ]
     },
     "execution_count": 29,
     "metadata": {},
     "output_type": "execute_result"
    }
   ],
   "source": [
    "best_squat_body_weight | best_daedlift_body_weight  | best_bench_body_weight "
   ]
  },
  {
   "cell_type": "markdown",
   "metadata": {},
   "source": [
    "These regressors confirm that 'Multi-ply' exceeds in performance when the Lift is Bench or Squat Type. However, for best dead lift Wraps exceed in performance than 'Multi-ply', specially in higher weight categories."
   ]
  },
  {
   "cell_type": "markdown",
   "metadata": {},
   "source": [
    "Also Raw Perform much better than Single-ply in many instances and as good as Multi-ply in few instances ( confirming that all Equipped Lifts are not better"
   ]
  },
  {
   "cell_type": "markdown",
   "metadata": {},
   "source": [
    "The relationship between weight lifted and Bodyweight is a positive. I guess this would mean that the heavier\n",
    "athletes are more stronger and muscular too!\n",
    "\n",
    "**Straps not considered in analysis and sample size is too small"
   ]
  },
  {
   "cell_type": "markdown",
   "metadata": {},
   "source": [
    "### How is the  performance of Power Lifters impacted by their Gender? How powerlifters perform when measured against the total weight lifted and the weight lifted as compared to their Body Weight? "
   ]
  },
  {
   "cell_type": "markdown",
   "metadata": {},
   "source": [
    "How is Power Lifter performance effected by sex? Is the Distribution for the Male and Female Lifters more like a Pareto distribution, where 'few at top' vastly outperforms the 'few at bottom'? Is it more like normal distribution wher the performance is 'evenly' distributed along an average 'mean' ?"
   ]
  },
  {
   "cell_type": "code",
   "execution_count": 30,
   "metadata": {},
   "outputs": [
    {
     "data": {
      "text/html": [
       "\n",
       "<div id=\"altair-viz-1cc46241205a4e039a381996cd83ec71\"></div>\n",
       "<script type=\"text/javascript\">\n",
       "  (function(spec, embedOpt){\n",
       "    let outputDiv = document.currentScript.previousElementSibling;\n",
       "    if (outputDiv.id !== \"altair-viz-1cc46241205a4e039a381996cd83ec71\") {\n",
       "      outputDiv = document.getElementById(\"altair-viz-1cc46241205a4e039a381996cd83ec71\");\n",
       "    }\n",
       "    const paths = {\n",
       "      \"vega\": \"https://cdn.jsdelivr.net/npm//vega@5?noext\",\n",
       "      \"vega-lib\": \"https://cdn.jsdelivr.net/npm//vega-lib?noext\",\n",
       "      \"vega-lite\": \"https://cdn.jsdelivr.net/npm//vega-lite@4.8.1?noext\",\n",
       "      \"vega-embed\": \"https://cdn.jsdelivr.net/npm//vega-embed@6?noext\",\n",
       "    };\n",
       "\n",
       "    function loadScript(lib) {\n",
       "      return new Promise(function(resolve, reject) {\n",
       "        var s = document.createElement('script');\n",
       "        s.src = paths[lib];\n",
       "        s.async = true;\n",
       "        s.onload = () => resolve(paths[lib]);\n",
       "        s.onerror = () => reject(`Error loading script: ${paths[lib]}`);\n",
       "        document.getElementsByTagName(\"head\")[0].appendChild(s);\n",
       "      });\n",
       "    }\n",
       "\n",
       "    function showError(err) {\n",
       "      outputDiv.innerHTML = `<div class=\"error\" style=\"color:red;\">${err}</div>`;\n",
       "      throw err;\n",
       "    }\n",
       "\n",
       "    function displayChart(vegaEmbed) {\n",
       "      vegaEmbed(outputDiv, spec, embedOpt)\n",
       "        .catch(err => showError(`Javascript Error: ${err.message}<br>This usually means there's a typo in your chart specification. See the javascript console for the full traceback.`));\n",
       "    }\n",
       "\n",
       "    if(typeof define === \"function\" && define.amd) {\n",
       "      requirejs.config({paths});\n",
       "      require([\"vega-embed\"], displayChart, err => showError(`Error loading script: ${err.message}`));\n",
       "    } else if (typeof vegaEmbed === \"function\") {\n",
       "      displayChart(vegaEmbed);\n",
       "    } else {\n",
       "      loadScript(\"vega\")\n",
       "        .then(() => loadScript(\"vega-lite\"))\n",
       "        .then(() => loadScript(\"vega-embed\"))\n",
       "        .catch(showError)\n",
       "        .then(() => displayChart(vegaEmbed));\n",
       "    }\n",
       "  })({\"config\": {\"view\": {\"continuousWidth\": 400, \"continuousHeight\": 300}}, \"repeat\": [\"BestBenchKg\", \"BestSquatKg\", \"BestDeadliftKg\", \"TotalKg\"], \"spec\": {\"data\": {\"url\": \"https://raw.githubusercontent.com/UBC-MDS/exploratory-data-viz/main/data/power_lifting.csv\"}, \"mark\": {\"type\": \"bar\", \"clip\": true, \"opacity\": 0.5, \"thickness\": 100}, \"encoding\": {\"color\": {\"type\": \"nominal\", \"field\": \"Sex\", \"scale\": {\"domain\": [\"M\", \"F\"], \"range\": [\"#1FC3AA\", \"#8624F5\"]}}, \"x\": {\"type\": \"quantitative\", \"bin\": {\"step\": 5}, \"field\": {\"repeat\": \"repeat\"}, \"scale\": {\"domain\": [10, 800]}}, \"y\": {\"type\": \"quantitative\", \"aggregate\": \"count\", \"scale\": {\"domain\": [0, 15000]}, \"stack\": null}}, \"height\": 300, \"selection\": {\"selector004\": {\"type\": \"single\", \"empty\": \"all\", \"fields\": [\"Sex\"]}}, \"transform\": [{\"filter\": {\"selection\": \"selector004\"}}], \"width\": 300}, \"columns\": 2, \"title\": {\"text\": [\"Distributions of BestBench(kg), BestSquat(Kg), BestWeight(Kg), TotalKg for Male and Female\"]}, \"$schema\": \"https://vega.github.io/schema/vega-lite/v4.8.1.json\"}, {\"mode\": \"vega-lite\"});\n",
       "</script>"
      ],
      "text/plain": [
       "alt.RepeatChart(...)"
      ]
     },
     "execution_count": 30,
     "metadata": {},
     "output_type": "execute_result"
    }
   ],
   "source": [
    "numeric_cols=['BestBenchKg','BestSquatKg','BestDeadliftKg','TotalKg']\n",
    "selector_1 = alt.selection_single(empty='all', fields=['Sex'])\n",
    "\n",
    "color_scale_1 = alt.Scale(domain=['M', 'F'],\n",
    "                        range=['#1FC3AA', '#8624F5'])\n",
    "\n",
    "base_1 = alt.Chart(url_pwr_lft).properties(\n",
    "    width=300,\n",
    "    height=300\n",
    ").add_selection(selector_1)\n",
    "\n",
    "hists1 = base_1.mark_bar(clip= True, opacity=0.5, thickness=100).encode(\n",
    "    x=alt.X(alt.repeat('repeat'),type='quantitative',\n",
    "            bin=alt.Bin(step=5), # step keeps bin size the same\n",
    "            scale=alt.Scale(domain=[10,800])),\n",
    "    y=alt.Y('count()',\n",
    "            stack=None,\n",
    "            scale=alt.Scale(domain=[0,15000])),\n",
    "    color=alt.Color('Sex:N',\n",
    "                    scale=color_scale_1)\n",
    ").transform_filter(\n",
    "    selector_1\n",
    ").properties(height=300, width =300).repeat(repeat =numeric_cols,columns =2)\n",
    "\n",
    "hists1 = hists1.properties(title ={\"text\" :[\"Distributions of BestBench(kg), BestSquat(Kg), BestWeight(Kg), TotalKg for Male and Female\"]})\n",
    "hists1"
   ]
  },
  {
   "cell_type": "markdown",
   "metadata": {},
   "source": [
    "Based on above the distribution in various lift categories for different genders resemble Normal distributions. Men outperforms Women, the outliers in Women compete with the Average and bottom in the Lift Categories and not with the top.\n"
   ]
  },
  {
   "cell_type": "markdown",
   "metadata": {},
   "source": [
    "But generally Men are heavier than Women . As noted above, there is a positive relationship between  te weight lifted and body weight, let us explore further."
   ]
  },
  {
   "cell_type": "code",
   "execution_count": 31,
   "metadata": {},
   "outputs": [
    {
     "data": {
      "text/html": [
       "<div>\n",
       "<style scoped>\n",
       "    .dataframe tbody tr th:only-of-type {\n",
       "        vertical-align: middle;\n",
       "    }\n",
       "\n",
       "    .dataframe tbody tr th {\n",
       "        vertical-align: top;\n",
       "    }\n",
       "\n",
       "    .dataframe thead th {\n",
       "        text-align: right;\n",
       "    }\n",
       "</style>\n",
       "<table border=\"1\" class=\"dataframe\">\n",
       "  <thead>\n",
       "    <tr style=\"text-align: right;\">\n",
       "      <th></th>\n",
       "      <th>BodyweightKg</th>\n",
       "    </tr>\n",
       "  </thead>\n",
       "  <tbody>\n",
       "    <tr>\n",
       "      <td>count</td>\n",
       "      <td>296924.000000</td>\n",
       "    </tr>\n",
       "    <tr>\n",
       "      <td>mean</td>\n",
       "      <td>92.074109</td>\n",
       "    </tr>\n",
       "    <tr>\n",
       "      <td>std</td>\n",
       "      <td>22.216335</td>\n",
       "    </tr>\n",
       "    <tr>\n",
       "      <td>min</td>\n",
       "      <td>17.960000</td>\n",
       "    </tr>\n",
       "    <tr>\n",
       "      <td>25%</td>\n",
       "      <td>75.200000</td>\n",
       "    </tr>\n",
       "    <tr>\n",
       "      <td>50%</td>\n",
       "      <td>89.540000</td>\n",
       "    </tr>\n",
       "    <tr>\n",
       "      <td>75%</td>\n",
       "      <td>105.000000</td>\n",
       "    </tr>\n",
       "    <tr>\n",
       "      <td>max</td>\n",
       "      <td>242.400000</td>\n",
       "    </tr>\n",
       "  </tbody>\n",
       "</table>\n",
       "</div>"
      ],
      "text/plain": [
       "        BodyweightKg\n",
       "count  296924.000000\n",
       "mean       92.074109\n",
       "std        22.216335\n",
       "min        17.960000\n",
       "25%        75.200000\n",
       "50%        89.540000\n",
       "75%       105.000000\n",
       "max       242.400000"
      ]
     },
     "execution_count": 31,
     "metadata": {},
     "output_type": "execute_result"
    }
   ],
   "source": [
    "pwr_lft_df[pwr_lft_df['Sex']== 'M'][['BodyweightKg']].describe()"
   ]
  },
  {
   "cell_type": "code",
   "execution_count": 32,
   "metadata": {},
   "outputs": [
    {
     "data": {
      "text/html": [
       "<div>\n",
       "<style scoped>\n",
       "    .dataframe tbody tr th:only-of-type {\n",
       "        vertical-align: middle;\n",
       "    }\n",
       "\n",
       "    .dataframe tbody tr th {\n",
       "        vertical-align: top;\n",
       "    }\n",
       "\n",
       "    .dataframe thead th {\n",
       "        text-align: right;\n",
       "    }\n",
       "</style>\n",
       "<table border=\"1\" class=\"dataframe\">\n",
       "  <thead>\n",
       "    <tr style=\"text-align: right;\">\n",
       "      <th></th>\n",
       "      <th>BodyweightKg</th>\n",
       "    </tr>\n",
       "  </thead>\n",
       "  <tbody>\n",
       "    <tr>\n",
       "      <td>count</td>\n",
       "      <td>87081.000000</td>\n",
       "    </tr>\n",
       "    <tr>\n",
       "      <td>mean</td>\n",
       "      <td>69.409177</td>\n",
       "    </tr>\n",
       "    <tr>\n",
       "      <td>std</td>\n",
       "      <td>16.768542</td>\n",
       "    </tr>\n",
       "    <tr>\n",
       "      <td>min</td>\n",
       "      <td>15.880000</td>\n",
       "    </tr>\n",
       "    <tr>\n",
       "      <td>25%</td>\n",
       "      <td>58.100000</td>\n",
       "    </tr>\n",
       "    <tr>\n",
       "      <td>50%</td>\n",
       "      <td>66.500000</td>\n",
       "    </tr>\n",
       "    <tr>\n",
       "      <td>75%</td>\n",
       "      <td>76.600000</td>\n",
       "    </tr>\n",
       "    <tr>\n",
       "      <td>max</td>\n",
       "      <td>184.900000</td>\n",
       "    </tr>\n",
       "  </tbody>\n",
       "</table>\n",
       "</div>"
      ],
      "text/plain": [
       "       BodyweightKg\n",
       "count  87081.000000\n",
       "mean      69.409177\n",
       "std       16.768542\n",
       "min       15.880000\n",
       "25%       58.100000\n",
       "50%       66.500000\n",
       "75%       76.600000\n",
       "max      184.900000"
      ]
     },
     "execution_count": 32,
     "metadata": {},
     "output_type": "execute_result"
    }
   ],
   "source": [
    "pwr_lft_df[pwr_lft_df['Sex']== 'F'][['BodyweightKg']].describe()"
   ]
  },
  {
   "cell_type": "code",
   "execution_count": 33,
   "metadata": {},
   "outputs": [
    {
     "data": {
      "text/html": [
       "\n",
       "<div id=\"altair-viz-7227d93069ed41ec97e1f6b0cea11daf\"></div>\n",
       "<script type=\"text/javascript\">\n",
       "  (function(spec, embedOpt){\n",
       "    let outputDiv = document.currentScript.previousElementSibling;\n",
       "    if (outputDiv.id !== \"altair-viz-7227d93069ed41ec97e1f6b0cea11daf\") {\n",
       "      outputDiv = document.getElementById(\"altair-viz-7227d93069ed41ec97e1f6b0cea11daf\");\n",
       "    }\n",
       "    const paths = {\n",
       "      \"vega\": \"https://cdn.jsdelivr.net/npm//vega@5?noext\",\n",
       "      \"vega-lib\": \"https://cdn.jsdelivr.net/npm//vega-lib?noext\",\n",
       "      \"vega-lite\": \"https://cdn.jsdelivr.net/npm//vega-lite@4.8.1?noext\",\n",
       "      \"vega-embed\": \"https://cdn.jsdelivr.net/npm//vega-embed@6?noext\",\n",
       "    };\n",
       "\n",
       "    function loadScript(lib) {\n",
       "      return new Promise(function(resolve, reject) {\n",
       "        var s = document.createElement('script');\n",
       "        s.src = paths[lib];\n",
       "        s.async = true;\n",
       "        s.onload = () => resolve(paths[lib]);\n",
       "        s.onerror = () => reject(`Error loading script: ${paths[lib]}`);\n",
       "        document.getElementsByTagName(\"head\")[0].appendChild(s);\n",
       "      });\n",
       "    }\n",
       "\n",
       "    function showError(err) {\n",
       "      outputDiv.innerHTML = `<div class=\"error\" style=\"color:red;\">${err}</div>`;\n",
       "      throw err;\n",
       "    }\n",
       "\n",
       "    function displayChart(vegaEmbed) {\n",
       "      vegaEmbed(outputDiv, spec, embedOpt)\n",
       "        .catch(err => showError(`Javascript Error: ${err.message}<br>This usually means there's a typo in your chart specification. See the javascript console for the full traceback.`));\n",
       "    }\n",
       "\n",
       "    if(typeof define === \"function\" && define.amd) {\n",
       "      requirejs.config({paths});\n",
       "      require([\"vega-embed\"], displayChart, err => showError(`Error loading script: ${err.message}`));\n",
       "    } else if (typeof vegaEmbed === \"function\") {\n",
       "      displayChart(vegaEmbed);\n",
       "    } else {\n",
       "      loadScript(\"vega\")\n",
       "        .then(() => loadScript(\"vega-lite\"))\n",
       "        .then(() => loadScript(\"vega-embed\"))\n",
       "        .catch(showError)\n",
       "        .then(() => displayChart(vegaEmbed));\n",
       "    }\n",
       "  })({\"config\": {\"view\": {\"continuousWidth\": 400, \"continuousHeight\": 300}}, \"data\": {\"url\": \"https://raw.githubusercontent.com/UBC-MDS/exploratory-data-viz/main/data/power_lifting.csv\"}, \"facet\": {\"type\": \"nominal\", \"field\": \"Sex\"}, \"spec\": {\"mark\": {\"type\": \"circle\", \"clip\": true, \"size\": 40}, \"encoding\": {\"color\": {\"type\": \"quantitative\", \"aggregate\": \"count\"}, \"x\": {\"type\": \"quantitative\", \"bin\": {\"maxbins\": 30}, \"field\": \"BodyweightKg\", \"impute\": {\"value\": null}, \"title\": \"BodyWeight(Kgs)\"}, \"y\": {\"type\": \"quantitative\", \"bin\": {\"maxbins\": 30}, \"field\": \"BestSquatKg\", \"impute\": {\"value\": null}, \"title\": \"BestSquatKg(Kgs)\"}}, \"transform\": [{\"filter\": \"(datum['BodyweightKg'] > 0)\"}, {\"filter\": \"(datum['BestSquatKg'] > 0)\"}]}, \"resolve\": {\"scale\": {\"y\": \"independent\"}}, \"$schema\": \"https://vega.github.io/schema/vega-lite/v4.8.1.json\"}, {\"mode\": \"vega-lite\"});\n",
       "</script>"
      ],
      "text/plain": [
       "alt.FacetChart(...)"
      ]
     },
     "execution_count": 33,
     "metadata": {},
     "output_type": "execute_result"
    }
   ],
   "source": [
    "bdywgt_bestsqt_male_female = graph_maker_1.functionChart1 (url_pwr_lft,'BodyweightKg','BestSquatKg')\n",
    "#chart777.tooltip=[alt.Tooltip(\"'BodyweightKg:Q\", title=\"Body Weight Kilograms\"),alt.Tooltip(\"BestSquatKg:Q\", title=\"Best Squat Kilogram\")]\n",
    "bdywgt_bestsqt_male_female\n"
   ]
  },
  {
   "cell_type": "code",
   "execution_count": 36,
   "metadata": {},
   "outputs": [
    {
     "data": {
      "text/html": [
       "\n",
       "<div id=\"altair-viz-c3bcffc6272f4ee0bd581e1768d43f13\"></div>\n",
       "<script type=\"text/javascript\">\n",
       "  (function(spec, embedOpt){\n",
       "    let outputDiv = document.currentScript.previousElementSibling;\n",
       "    if (outputDiv.id !== \"altair-viz-c3bcffc6272f4ee0bd581e1768d43f13\") {\n",
       "      outputDiv = document.getElementById(\"altair-viz-c3bcffc6272f4ee0bd581e1768d43f13\");\n",
       "    }\n",
       "    const paths = {\n",
       "      \"vega\": \"https://cdn.jsdelivr.net/npm//vega@5?noext\",\n",
       "      \"vega-lib\": \"https://cdn.jsdelivr.net/npm//vega-lib?noext\",\n",
       "      \"vega-lite\": \"https://cdn.jsdelivr.net/npm//vega-lite@4.8.1?noext\",\n",
       "      \"vega-embed\": \"https://cdn.jsdelivr.net/npm//vega-embed@6?noext\",\n",
       "    };\n",
       "\n",
       "    function loadScript(lib) {\n",
       "      return new Promise(function(resolve, reject) {\n",
       "        var s = document.createElement('script');\n",
       "        s.src = paths[lib];\n",
       "        s.async = true;\n",
       "        s.onload = () => resolve(paths[lib]);\n",
       "        s.onerror = () => reject(`Error loading script: ${paths[lib]}`);\n",
       "        document.getElementsByTagName(\"head\")[0].appendChild(s);\n",
       "      });\n",
       "    }\n",
       "\n",
       "    function showError(err) {\n",
       "      outputDiv.innerHTML = `<div class=\"error\" style=\"color:red;\">${err}</div>`;\n",
       "      throw err;\n",
       "    }\n",
       "\n",
       "    function displayChart(vegaEmbed) {\n",
       "      vegaEmbed(outputDiv, spec, embedOpt)\n",
       "        .catch(err => showError(`Javascript Error: ${err.message}<br>This usually means there's a typo in your chart specification. See the javascript console for the full traceback.`));\n",
       "    }\n",
       "\n",
       "    if(typeof define === \"function\" && define.amd) {\n",
       "      requirejs.config({paths});\n",
       "      require([\"vega-embed\"], displayChart, err => showError(`Error loading script: ${err.message}`));\n",
       "    } else if (typeof vegaEmbed === \"function\") {\n",
       "      displayChart(vegaEmbed);\n",
       "    } else {\n",
       "      loadScript(\"vega\")\n",
       "        .then(() => loadScript(\"vega-lite\"))\n",
       "        .then(() => loadScript(\"vega-embed\"))\n",
       "        .catch(showError)\n",
       "        .then(() => displayChart(vegaEmbed));\n",
       "    }\n",
       "  })({\"config\": {\"view\": {\"continuousWidth\": 400, \"continuousHeight\": 300}}, \"data\": {\"url\": \"https://raw.githubusercontent.com/UBC-MDS/exploratory-data-viz/main/data/power_lifting.csv\"}, \"facet\": {\"type\": \"nominal\", \"field\": \"Sex\"}, \"spec\": {\"mark\": {\"type\": \"circle\", \"clip\": true, \"size\": 40}, \"encoding\": {\"color\": {\"type\": \"quantitative\", \"aggregate\": \"count\"}, \"x\": {\"type\": \"quantitative\", \"bin\": {\"maxbins\": 30}, \"field\": \"BodyweightKg\", \"impute\": {\"value\": null}, \"title\": \"BodyWeight(Kgs)\"}, \"y\": {\"type\": \"quantitative\", \"bin\": {\"maxbins\": 30}, \"field\": \"BestDeadliftKg\", \"impute\": {\"value\": null}, \"title\": \"BestDeadliftKg(Kgs)\"}}, \"transform\": [{\"filter\": \"(datum['BodyweightKg'] > 0)\"}, {\"filter\": \"(datum['BestDeadliftKg'] > 0)\"}]}, \"resolve\": {\"scale\": {\"y\": \"independent\"}}, \"$schema\": \"https://vega.github.io/schema/vega-lite/v4.8.1.json\"}, {\"mode\": \"vega-lite\"});\n",
       "</script>"
      ],
      "text/plain": [
       "alt.FacetChart(...)"
      ]
     },
     "execution_count": 36,
     "metadata": {},
     "output_type": "execute_result"
    }
   ],
   "source": [
    "bdywgt_bestdeadlift_male_female = graph_maker_1.functionChart1(url_pwr_lft,'BodyweightKg','BestDeadliftKg')\n",
    "bdywgt_bestdeadlift_male_female"
   ]
  },
  {
   "cell_type": "code",
   "execution_count": 35,
   "metadata": {},
   "outputs": [
    {
     "data": {
      "text/html": [
       "\n",
       "<div id=\"altair-viz-ef0b19a5b02c426ebb921d04e68a74db\"></div>\n",
       "<script type=\"text/javascript\">\n",
       "  (function(spec, embedOpt){\n",
       "    let outputDiv = document.currentScript.previousElementSibling;\n",
       "    if (outputDiv.id !== \"altair-viz-ef0b19a5b02c426ebb921d04e68a74db\") {\n",
       "      outputDiv = document.getElementById(\"altair-viz-ef0b19a5b02c426ebb921d04e68a74db\");\n",
       "    }\n",
       "    const paths = {\n",
       "      \"vega\": \"https://cdn.jsdelivr.net/npm//vega@5?noext\",\n",
       "      \"vega-lib\": \"https://cdn.jsdelivr.net/npm//vega-lib?noext\",\n",
       "      \"vega-lite\": \"https://cdn.jsdelivr.net/npm//vega-lite@4.8.1?noext\",\n",
       "      \"vega-embed\": \"https://cdn.jsdelivr.net/npm//vega-embed@6?noext\",\n",
       "    };\n",
       "\n",
       "    function loadScript(lib) {\n",
       "      return new Promise(function(resolve, reject) {\n",
       "        var s = document.createElement('script');\n",
       "        s.src = paths[lib];\n",
       "        s.async = true;\n",
       "        s.onload = () => resolve(paths[lib]);\n",
       "        s.onerror = () => reject(`Error loading script: ${paths[lib]}`);\n",
       "        document.getElementsByTagName(\"head\")[0].appendChild(s);\n",
       "      });\n",
       "    }\n",
       "\n",
       "    function showError(err) {\n",
       "      outputDiv.innerHTML = `<div class=\"error\" style=\"color:red;\">${err}</div>`;\n",
       "      throw err;\n",
       "    }\n",
       "\n",
       "    function displayChart(vegaEmbed) {\n",
       "      vegaEmbed(outputDiv, spec, embedOpt)\n",
       "        .catch(err => showError(`Javascript Error: ${err.message}<br>This usually means there's a typo in your chart specification. See the javascript console for the full traceback.`));\n",
       "    }\n",
       "\n",
       "    if(typeof define === \"function\" && define.amd) {\n",
       "      requirejs.config({paths});\n",
       "      require([\"vega-embed\"], displayChart, err => showError(`Error loading script: ${err.message}`));\n",
       "    } else if (typeof vegaEmbed === \"function\") {\n",
       "      displayChart(vegaEmbed);\n",
       "    } else {\n",
       "      loadScript(\"vega\")\n",
       "        .then(() => loadScript(\"vega-lite\"))\n",
       "        .then(() => loadScript(\"vega-embed\"))\n",
       "        .catch(showError)\n",
       "        .then(() => displayChart(vegaEmbed));\n",
       "    }\n",
       "  })({\"config\": {\"view\": {\"continuousWidth\": 400, \"continuousHeight\": 300}}, \"data\": {\"url\": \"https://raw.githubusercontent.com/UBC-MDS/exploratory-data-viz/main/data/power_lifting.csv\"}, \"facet\": {\"type\": \"nominal\", \"field\": \"Sex\"}, \"spec\": {\"mark\": {\"type\": \"circle\", \"clip\": true, \"size\": 40}, \"encoding\": {\"color\": {\"type\": \"quantitative\", \"aggregate\": \"count\"}, \"x\": {\"type\": \"quantitative\", \"bin\": {\"maxbins\": 30}, \"field\": \"BodyweightKg\", \"impute\": {\"value\": null}, \"title\": \"BodyWeight(Kgs)\"}, \"y\": {\"type\": \"quantitative\", \"bin\": {\"maxbins\": 30}, \"field\": \"BestBenchKg\", \"impute\": {\"value\": null}, \"title\": \"BestBenchKg(Kgs)\"}}, \"transform\": [{\"filter\": \"(datum['BodyweightKg'] > 0)\"}, {\"filter\": \"(datum['BestBenchKg'] > 0)\"}]}, \"resolve\": {\"scale\": {\"y\": \"independent\"}}, \"$schema\": \"https://vega.github.io/schema/vega-lite/v4.8.1.json\"}, {\"mode\": \"vega-lite\"});\n",
       "</script>"
      ],
      "text/plain": [
       "alt.FacetChart(...)"
      ]
     },
     "execution_count": 35,
     "metadata": {},
     "output_type": "execute_result"
    }
   ],
   "source": [
    "dywgt_bestbenchliift_male_female =  graph_maker_1.functionChart1 (url_pwr_lft,'BodyweightKg','BestBenchKg')\n",
    "dywgt_bestbenchliift_male_female"
   ]
  },
  {
   "cell_type": "markdown",
   "metadata": {},
   "source": [
    "Although Men is heavier than Women, they also lift multiple times more weight of their Body Weight than Women , generally."
   ]
  },
  {
   "cell_type": "markdown",
   "metadata": {},
   "source": [
    "On closer look of the plots, we can see from the plots above that the  (absolute) maximum weight lifted ( by best performing athletes)increases with the increasing weight of the athletes, it then reaches a paek and then level off or may actually decrease slightly for ther athletes in higher end of body weight class. \n",
    "\n",
    "When comparing how much an atlete lift compared to his/her body weight,Lighter athletes lift many times more multiple weight of their body weight than heavier athletes... this lead us to a question of what it means to be a stronger powerlifter.. one who lifts more as compared to his/her body weight or one who lifs more (absolute) weight compared to the others?\n",
    "\n",
    "Clearly, bodyweight multipliers aren’t a very good standard for comparing relative strength across a wide range of body weight... it will always make lighter athletes more stronger than heavier one.. because they can lift many time more wight than heavier ones.\n",
    "\n",
    "The strength of an athlete is not a simple factor of how many multiples he/she can lift of its body weight, what can then be a good metric for predicting the strength of athletes? "
   ]
  },
  {
   "cell_type": "markdown",
   "metadata": {},
   "source": [
    "## What can be a good Metric to measure power lifters performance?"
   ]
  },
  {
   "cell_type": "markdown",
   "metadata": {},
   "source": [
    "Simple calculations based on how many times bodyweight you can lift is not a good indication of the strength of powerlifters, as this does not scale in a linear fashion. It would highly disadvantage the heavier lifter versus the lighter lifter.\n",
    "\n",
    "Robert Wilks of Powerlifting Australia has provided another metric for describing the strebgth of powerlifters. let us see how good it can predict the strength of a power lifting athlete?"
   ]
  },
  {
   "cell_type": "code",
   "execution_count": null,
   "metadata": {},
   "outputs": [],
   "source": [
    "wilks_dstrbn = alt.Chart(url_pwr_lft).mark_bar().encode(\n",
    "     alt.X(\"Wilks:Q\", bin=alt.Bin(maxbins=40),title='Wilks Score'),\n",
    "     alt.Y('count()',title='Number of Athletes')).properties(title ='Wilks Distribution')\n",
    "wilks_dstrbn"
   ]
  },
  {
   "cell_type": "code",
   "execution_count": null,
   "metadata": {},
   "outputs": [],
   "source": [
    "wilks_dstrbn.facet('Sex:N')"
   ]
  },
  {
   "cell_type": "code",
   "execution_count": null,
   "metadata": {},
   "outputs": [],
   "source": [
    "wilks_dstrbn_best = alt.Chart(url_pwr_lft).mark_bar().encode(\n",
    "     alt.X(\"Wilks:Q\", bin=alt.Bin(maxbins=40),title='Wilks Score'),\n",
    "     alt.Y('count()',title='Number of Athletes')).properties(title ='Wilks Distribution for scores greater than 320').transform_filter(alt.datum.Wilks >320)\n",
    "wilks_dstrbn_best"
   ]
  },
  {
   "cell_type": "markdown",
   "metadata": {},
   "source": [
    "As we can see from above the number of athletes with higher wilkis score decrease \"exponentially\" as we move above Willkis score of 320. Are these the highest perfoemers, let us explore further by\n",
    "looking at the Wilkis score of top performers. "
   ]
  },
  {
   "cell_type": "markdown",
   "metadata": {},
   "source": [
    "Let us look at the top lifts (tota kgs lifted as well as the kgs lifted against body weight) abd Wilkis score of the highest lifters"
   ]
  },
  {
   "cell_type": "code",
   "execution_count": null,
   "metadata": {},
   "outputs": [],
   "source": [
    "#Relative Strength\n",
    "def squatBody(x):\n",
    "    return x['BestSquatKg'] / x['BodyweightKg']\n",
    "\n",
    "def benchBody(x):\n",
    "    return x['BestBenchKg'] / x['BodyweightKg']\n",
    "\n",
    "def deadliftBody(x):\n",
    "    return x['BestDeadliftKg'] / x['BodyweightKg']\n",
    "\n",
    "def totalLiftBody(x):\n",
    "    return x['TotalKg'] / x['BodyweightKg']\n"
   ]
  },
  {
   "cell_type": "code",
   "execution_count": null,
   "metadata": {},
   "outputs": [],
   "source": [
    "\n",
    "pwr_lft_df['Squat/BW'] = pwr_lft_df.apply(squatBody,axis=1)\n",
    "pwr_lft_df['Bench/BW'] = pwr_lft_df.apply(benchBody,axis=1)\n",
    "pwr_lft_df['Deadlift/BW'] =pwr_lft_df.apply(deadliftBody,axis=1)\n",
    "pwr_lft_df['Total/BW'] = pwr_lft_df.apply(totalLiftBody,axis=1)"
   ]
  },
  {
   "cell_type": "markdown",
   "metadata": {},
   "source": [
    "\n",
    "It looks like that there is a sharp decrease in the number of athletes as Wilks score increases above 320. Are these the highest performing athletes?"
   ]
  },
  {
   "cell_type": "code",
   "execution_count": null,
   "metadata": {},
   "outputs": [],
   "source": [
    "pwr_lft_df.head(1)"
   ]
  },
  {
   "cell_type": "code",
   "execution_count": null,
   "metadata": {},
   "outputs": [],
   "source": [
    "pwr_lft_df[pwr_lft_df['Sex']== 'M'][['Name','BodyweightKg','TotalKg','Total/BW','Wilks']].sort_values(by='TotalKg', ascending = False)[:20]"
   ]
  },
  {
   "cell_type": "code",
   "execution_count": null,
   "metadata": {},
   "outputs": [],
   "source": [
    "pwr_lft_df[pwr_lft_df['Sex']== 'M'][['Name','BodyweightKg','TotalKg','Total/BW','Wilks']].sort_values(by='Total/BW', ascending = False)[:20]"
   ]
  },
  {
   "cell_type": "code",
   "execution_count": null,
   "metadata": {},
   "outputs": [],
   "source": [
    "pwr_lft_df[pwr_lft_df['Sex']== 'F'][['Name','BodyweightKg','TotalKg','Total/BW','Wilks']].sort_values(by='TotalKg', ascending = False)[:20]"
   ]
  },
  {
   "cell_type": "code",
   "execution_count": null,
   "metadata": {},
   "outputs": [],
   "source": [
    "pwr_lft_df[pwr_lft_df['Sex']== 'F'][['Name','BodyweightKg','TotalKg','Total/BW','Wilks']].sort_values(by='Total/BW', ascending = False)[:20]"
   ]
  },
  {
   "cell_type": "markdown",
   "metadata": {},
   "source": [
    "As we can see from above a higther wilker scale athlete signifies a more capable Power Lifter. The top performers are the onec with the higher Wilks score "
   ]
  },
  {
   "cell_type": "code",
   "execution_count": null,
   "metadata": {},
   "outputs": [],
   "source": [
    "slider = alt.binding_range(\n",
    "    step=50,\n",
    "    min=50, max=700)\n",
    "\n",
    "select_year_slider = alt.selection_single(\n",
    "    fields=['Wilks'],\n",
    "    bind=slider,\n",
    "    init={'Wilks' : 500},\n",
    "    name='Select')\n",
    "\n",
    "\n",
    "wills_plot_absolute_strength =alt.Chart(url_pwr_lft).mark_circle(size =10,clip=True).encode( \n",
    "                alt.X('Wilks:Q',impute=alt.ImputeParams(value=None),scale=alt.Scale(zero=False),axis =alt.Axis (title ='Wilks Score')),\n",
    "                alt.Y('TotalKg:Q',impute=alt.ImputeParams(value=None),scale=alt.Scale(zero=False),axis =alt.Axis (title ='Totalkg(Kgs)')),\n",
    "                [alt.Tooltip(\"Wilks:Q\",title=\"Wilks Score\"),alt.Tooltip('TotalKg:Q', title=\"Total Kilogram\")],\n",
    "                color=alt.condition(abs(alt.datum.Wilks - select_year_slider.Wilks) < 30, alt.value(\"navy\"), alt.value(\"lightgray\"))).properties(width=300,height=0,title=\"Scatter plot of Total Kilograms Lifted against Wilkis Score\").add_selection(select_year_slider)\n",
    "                \n",
    "\n",
    "wills_plot_absolute_strength"
   ]
  },
  {
   "cell_type": "code",
   "execution_count": null,
   "metadata": {},
   "outputs": [],
   "source": [
    "pwr_lft_df[['Wilks','Total/BW']]"
   ]
  },
  {
   "cell_type": "code",
   "execution_count": null,
   "metadata": {},
   "outputs": [],
   "source": [
    "alt.data_transformers.disable_max_rows()\n",
    "slider = alt.binding_range(\n",
    "    step=50,\n",
    "    min=50, max=700)\n",
    "\n",
    "select_year_slider = alt.selection_single(\n",
    "    fields=['Wilks'],\n",
    "    bind=slider,\n",
    "    init={'Wilks' : 500},\n",
    "    name='Select')\n",
    "\n",
    "\n",
    "wills_plot_rel_strength =alt.Chart(pwr_lft_df[['Wilks','Total/BW']]).mark_circle(size =10,clip=True).encode( \n",
    "                alt.X('Wilks',impute=alt.ImputeParams(value=None),scale=alt.Scale(zero=False),axis =alt.Axis (title ='Wilks Score')),\n",
    "                alt.Y('Total/BW',impute=alt.ImputeParams(value=None),scale=alt.Scale(zero=False),axis =alt.Axis (title ='Totalkg Relative to Body Weight(Kgs)')),\n",
    "                [alt.Tooltip(\"Wilks:Q\",title=\"Wilks Score\"),alt.Tooltip('Total/BW', title=\"Total Kilogram muliples of Body Weight\")],\n",
    "                color=alt.condition(abs(alt.datum.Wilks - select_year_slider.Wilks) < 30, alt.value(\"navy\"), alt.value(\"lightgray\"))).properties(width=300,height=0,title=\"Scatter plot of Total Kilograms Lifted against Wilkis Score\").add_selection(select_year_slider)\n",
    "\n",
    "  \n",
    "wills_plot_rel_strength              \n",
    "\n"
   ]
  },
  {
   "cell_type": "markdown",
   "metadata": {},
   "source": [
    "As we can see from above a higther wiolker scole athlete signifies a more cpable Power Lifter."
   ]
  },
  {
   "cell_type": "markdown",
   "metadata": {},
   "source": [
    "The wilker scale does not seem to discriminate between the light and heavy lifters. Athletes with Wilks score in the highest band performs better on the absolute strength(Totalkgs) and relative strength(Total Kg/BW).re. So Wilkis score is a better measure of the aythlete strength and powerlifting ability.  "
   ]
  },
  {
   "cell_type": "markdown",
   "metadata": {},
   "source": [
    "Let us ginally look at the Performance of different athletes against Age."
   ]
  },
  {
   "cell_type": "markdown",
   "metadata": {},
   "source": [
    "## How the power lifter performance changes with age?"
   ]
  },
  {
   "cell_type": "code",
   "execution_count": null,
   "metadata": {},
   "outputs": [],
   "source": [
    "age_dstrbn = alt.Chart(url_pwr_lft).mark_bar().encode(\n",
    "     alt.X(\"Age:Q\", bin=alt.Bin(maxbins=40),title='Age'),\n",
    "     alt.Y('count()',title='Number of Athletes')).properties(title ='Wilks Distribution')\n",
    "age_dstrbn"
   ]
  },
  {
   "cell_type": "code",
   "execution_count": null,
   "metadata": {},
   "outputs": [],
   "source": [
    "age_dstrbn.facet('Sex:N')"
   ]
  },
  {
   "cell_type": "code",
   "execution_count": null,
   "metadata": {},
   "outputs": [],
   "source": [
    "chart777 =  graph_maker_1.functionChart1 (url_pwr_lft,'Age','TotalKg')\n",
    "chart777"
   ]
  },
  {
   "cell_type": "markdown",
   "metadata": {},
   "source": [
    "As we can ee from the above the peak performance for Men is between the age of 27, wheraes for Women , itv is between 27-32. Also the ability to lift weight decreases with age."
   ]
  },
  {
   "cell_type": "markdown",
   "metadata": {},
   "source": [
    "## DashBoard:"
   ]
  },
  {
   "cell_type": "code",
   "execution_count": null,
   "metadata": {},
   "outputs": [],
   "source": [
    "(wills_plot_absolute_strength | wills_plot_rel_strength) & (best_squat_body_weight | best_daedlift_body_weight  | best_bench_body_weight ).properties(title =\"How Wilks and equipment selection effect powerllifting performance \") "
   ]
  },
  {
   "cell_type": "markdown",
   "metadata": {},
   "source": [
    "# Concluding Remarks"
   ]
  },
  {
   "cell_type": "markdown",
   "metadata": {},
   "source": [
    "For Males , Based on the assesment above a Modell Lifter would be around 120 KG Male with high Willkers Score, around 27 years of age, who is familiar with the advances in fabrics technology so as to utilize the new technology to increase the weight that he can lift.\n",
    "\n",
    "For FeMales , Based on the assesment above a Modell Lifter would be around 80 KG Male with high Willkers Score, around 27 years of age, who is familiar with the advances in  fabrics technology so as to utilize the new technology to increase the weight that he can lift."
   ]
  },
  {
   "cell_type": "markdown",
   "metadata": {},
   "source": [
    "## Helpful Resources and Documentation"
   ]
  },
  {
   "cell_type": "markdown",
   "metadata": {},
   "source": [
    "Without mentioning any specific name, I would like to thank the online resources that help me during this endavaour"
   ]
  }
 ],
 "metadata": {
  "kernelspec": {
   "display_name": "Python 3",
   "language": "python",
   "name": "python3"
  },
  "language_info": {
   "codemirror_mode": {
    "name": "ipython",
    "version": 3
   },
   "file_extension": ".py",
   "mimetype": "text/x-python",
   "name": "python",
   "nbconvert_exporter": "python",
   "pygments_lexer": "ipython3",
   "version": "3.7.4"
  }
 },
 "nbformat": 4,
 "nbformat_minor": 4
}
